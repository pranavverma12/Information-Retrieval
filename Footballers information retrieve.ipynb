{
  "nbformat": 4,
  "nbformat_minor": 0,
  "metadata": {
    "colab": {
      "name": "18230141_NLP_Assignment_2.ipynb",
      "version": "0.3.2",
      "provenance": [],
      "collapsed_sections": []
    },
    "kernelspec": {
      "display_name": "Python 3",
      "language": "python",
      "name": "python3"
    }
  },
  "cells": [
    {
      "metadata": {
        "id": "sC-LZ20S_WUr",
        "colab_type": "text"
      },
      "cell_type": "markdown",
      "source": [
        "# Information Extraction - Assignment\n",
        "This assignment is based on the Information Extraction lecture and the lab.\n"
      ]
    },
    {
      "metadata": {
        "id": "9xqCFJBv_WUt",
        "colab_type": "code",
        "outputId": "5dbb80b8-a952-49d5-f435-568e2f7461fd",
        "colab": {
          "base_uri": "https://localhost:8080/",
          "height": 4066
        }
      },
      "cell_type": "code",
      "source": [
        "import nltk  as nk\n",
        "nk.download(\"all\")\n",
        "import re\n",
        "from statistics import mode"
      ],
      "execution_count": 0,
      "outputs": [
        {
          "output_type": "stream",
          "text": [
            "[nltk_data] Downloading collection 'all'\n",
            "[nltk_data]    | \n",
            "[nltk_data]    | Downloading package abc to /root/nltk_data...\n",
            "[nltk_data]    |   Unzipping corpora/abc.zip.\n",
            "[nltk_data]    | Downloading package alpino to /root/nltk_data...\n",
            "[nltk_data]    |   Unzipping corpora/alpino.zip.\n",
            "[nltk_data]    | Downloading package biocreative_ppi to\n",
            "[nltk_data]    |     /root/nltk_data...\n",
            "[nltk_data]    |   Unzipping corpora/biocreative_ppi.zip.\n",
            "[nltk_data]    | Downloading package brown to /root/nltk_data...\n",
            "[nltk_data]    |   Unzipping corpora/brown.zip.\n",
            "[nltk_data]    | Downloading package brown_tei to /root/nltk_data...\n",
            "[nltk_data]    |   Unzipping corpora/brown_tei.zip.\n",
            "[nltk_data]    | Downloading package cess_cat to /root/nltk_data...\n",
            "[nltk_data]    |   Unzipping corpora/cess_cat.zip.\n",
            "[nltk_data]    | Downloading package cess_esp to /root/nltk_data...\n",
            "[nltk_data]    |   Unzipping corpora/cess_esp.zip.\n",
            "[nltk_data]    | Downloading package chat80 to /root/nltk_data...\n",
            "[nltk_data]    |   Unzipping corpora/chat80.zip.\n",
            "[nltk_data]    | Downloading package city_database to\n",
            "[nltk_data]    |     /root/nltk_data...\n",
            "[nltk_data]    |   Unzipping corpora/city_database.zip.\n",
            "[nltk_data]    | Downloading package cmudict to /root/nltk_data...\n",
            "[nltk_data]    |   Unzipping corpora/cmudict.zip.\n",
            "[nltk_data]    | Downloading package comparative_sentences to\n",
            "[nltk_data]    |     /root/nltk_data...\n",
            "[nltk_data]    |   Unzipping corpora/comparative_sentences.zip.\n",
            "[nltk_data]    | Downloading package comtrans to /root/nltk_data...\n",
            "[nltk_data]    | Downloading package conll2000 to /root/nltk_data...\n",
            "[nltk_data]    |   Unzipping corpora/conll2000.zip.\n",
            "[nltk_data]    | Downloading package conll2002 to /root/nltk_data...\n",
            "[nltk_data]    |   Unzipping corpora/conll2002.zip.\n",
            "[nltk_data]    | Downloading package conll2007 to /root/nltk_data...\n",
            "[nltk_data]    | Downloading package crubadan to /root/nltk_data...\n",
            "[nltk_data]    |   Unzipping corpora/crubadan.zip.\n",
            "[nltk_data]    | Downloading package dependency_treebank to\n",
            "[nltk_data]    |     /root/nltk_data...\n",
            "[nltk_data]    |   Unzipping corpora/dependency_treebank.zip.\n",
            "[nltk_data]    | Downloading package dolch to /root/nltk_data...\n",
            "[nltk_data]    |   Unzipping corpora/dolch.zip.\n",
            "[nltk_data]    | Downloading package europarl_raw to\n",
            "[nltk_data]    |     /root/nltk_data...\n",
            "[nltk_data]    |   Unzipping corpora/europarl_raw.zip.\n",
            "[nltk_data]    | Downloading package floresta to /root/nltk_data...\n",
            "[nltk_data]    |   Unzipping corpora/floresta.zip.\n",
            "[nltk_data]    | Downloading package framenet_v15 to\n",
            "[nltk_data]    |     /root/nltk_data...\n",
            "[nltk_data]    |   Unzipping corpora/framenet_v15.zip.\n",
            "[nltk_data]    | Downloading package framenet_v17 to\n",
            "[nltk_data]    |     /root/nltk_data...\n",
            "[nltk_data]    |   Unzipping corpora/framenet_v17.zip.\n",
            "[nltk_data]    | Downloading package gazetteers to /root/nltk_data...\n",
            "[nltk_data]    |   Unzipping corpora/gazetteers.zip.\n",
            "[nltk_data]    | Downloading package genesis to /root/nltk_data...\n",
            "[nltk_data]    |   Unzipping corpora/genesis.zip.\n",
            "[nltk_data]    | Downloading package gutenberg to /root/nltk_data...\n",
            "[nltk_data]    |   Unzipping corpora/gutenberg.zip.\n",
            "[nltk_data]    | Downloading package ieer to /root/nltk_data...\n",
            "[nltk_data]    |   Unzipping corpora/ieer.zip.\n",
            "[nltk_data]    | Downloading package inaugural to /root/nltk_data...\n",
            "[nltk_data]    |   Unzipping corpora/inaugural.zip.\n",
            "[nltk_data]    | Downloading package indian to /root/nltk_data...\n",
            "[nltk_data]    |   Unzipping corpora/indian.zip.\n",
            "[nltk_data]    | Downloading package jeita to /root/nltk_data...\n",
            "[nltk_data]    | Downloading package kimmo to /root/nltk_data...\n",
            "[nltk_data]    |   Unzipping corpora/kimmo.zip.\n",
            "[nltk_data]    | Downloading package knbc to /root/nltk_data...\n",
            "[nltk_data]    | Downloading package lin_thesaurus to\n",
            "[nltk_data]    |     /root/nltk_data...\n",
            "[nltk_data]    |   Unzipping corpora/lin_thesaurus.zip.\n",
            "[nltk_data]    | Downloading package mac_morpho to /root/nltk_data...\n",
            "[nltk_data]    |   Unzipping corpora/mac_morpho.zip.\n",
            "[nltk_data]    | Downloading package machado to /root/nltk_data...\n",
            "[nltk_data]    | Downloading package masc_tagged to /root/nltk_data...\n",
            "[nltk_data]    | Downloading package moses_sample to\n",
            "[nltk_data]    |     /root/nltk_data...\n",
            "[nltk_data]    |   Unzipping models/moses_sample.zip.\n",
            "[nltk_data]    | Downloading package movie_reviews to\n",
            "[nltk_data]    |     /root/nltk_data...\n",
            "[nltk_data]    |   Unzipping corpora/movie_reviews.zip.\n",
            "[nltk_data]    | Downloading package names to /root/nltk_data...\n",
            "[nltk_data]    |   Unzipping corpora/names.zip.\n",
            "[nltk_data]    | Downloading package nombank.1.0 to /root/nltk_data...\n",
            "[nltk_data]    | Downloading package nps_chat to /root/nltk_data...\n",
            "[nltk_data]    |   Unzipping corpora/nps_chat.zip.\n",
            "[nltk_data]    | Downloading package omw to /root/nltk_data...\n",
            "[nltk_data]    |   Unzipping corpora/omw.zip.\n",
            "[nltk_data]    | Downloading package opinion_lexicon to\n",
            "[nltk_data]    |     /root/nltk_data...\n",
            "[nltk_data]    |   Unzipping corpora/opinion_lexicon.zip.\n",
            "[nltk_data]    | Downloading package paradigms to /root/nltk_data...\n",
            "[nltk_data]    |   Unzipping corpora/paradigms.zip.\n",
            "[nltk_data]    | Downloading package pil to /root/nltk_data...\n",
            "[nltk_data]    |   Unzipping corpora/pil.zip.\n",
            "[nltk_data]    | Downloading package pl196x to /root/nltk_data...\n",
            "[nltk_data]    |   Unzipping corpora/pl196x.zip.\n",
            "[nltk_data]    | Downloading package ppattach to /root/nltk_data...\n",
            "[nltk_data]    |   Unzipping corpora/ppattach.zip.\n",
            "[nltk_data]    | Downloading package problem_reports to\n",
            "[nltk_data]    |     /root/nltk_data...\n",
            "[nltk_data]    |   Unzipping corpora/problem_reports.zip.\n",
            "[nltk_data]    | Downloading package propbank to /root/nltk_data...\n",
            "[nltk_data]    | Downloading package ptb to /root/nltk_data...\n",
            "[nltk_data]    |   Unzipping corpora/ptb.zip.\n",
            "[nltk_data]    | Downloading package product_reviews_1 to\n",
            "[nltk_data]    |     /root/nltk_data...\n",
            "[nltk_data]    |   Unzipping corpora/product_reviews_1.zip.\n",
            "[nltk_data]    | Downloading package product_reviews_2 to\n",
            "[nltk_data]    |     /root/nltk_data...\n",
            "[nltk_data]    |   Unzipping corpora/product_reviews_2.zip.\n",
            "[nltk_data]    | Downloading package pros_cons to /root/nltk_data...\n",
            "[nltk_data]    |   Unzipping corpora/pros_cons.zip.\n",
            "[nltk_data]    | Downloading package qc to /root/nltk_data...\n",
            "[nltk_data]    |   Unzipping corpora/qc.zip.\n",
            "[nltk_data]    | Downloading package reuters to /root/nltk_data...\n",
            "[nltk_data]    | Downloading package rte to /root/nltk_data...\n",
            "[nltk_data]    |   Unzipping corpora/rte.zip.\n",
            "[nltk_data]    | Downloading package semcor to /root/nltk_data...\n",
            "[nltk_data]    | Downloading package senseval to /root/nltk_data...\n",
            "[nltk_data]    |   Unzipping corpora/senseval.zip.\n",
            "[nltk_data]    | Downloading package sentiwordnet to\n",
            "[nltk_data]    |     /root/nltk_data...\n",
            "[nltk_data]    |   Unzipping corpora/sentiwordnet.zip.\n",
            "[nltk_data]    | Downloading package sentence_polarity to\n",
            "[nltk_data]    |     /root/nltk_data...\n",
            "[nltk_data]    |   Unzipping corpora/sentence_polarity.zip.\n",
            "[nltk_data]    | Downloading package shakespeare to /root/nltk_data...\n",
            "[nltk_data]    |   Unzipping corpora/shakespeare.zip.\n",
            "[nltk_data]    | Downloading package sinica_treebank to\n",
            "[nltk_data]    |     /root/nltk_data...\n",
            "[nltk_data]    |   Unzipping corpora/sinica_treebank.zip.\n",
            "[nltk_data]    | Downloading package smultron to /root/nltk_data...\n",
            "[nltk_data]    |   Unzipping corpora/smultron.zip.\n",
            "[nltk_data]    | Downloading package state_union to /root/nltk_data...\n",
            "[nltk_data]    |   Unzipping corpora/state_union.zip.\n",
            "[nltk_data]    | Downloading package stopwords to /root/nltk_data...\n",
            "[nltk_data]    |   Unzipping corpora/stopwords.zip.\n",
            "[nltk_data]    | Downloading package subjectivity to\n",
            "[nltk_data]    |     /root/nltk_data...\n",
            "[nltk_data]    |   Unzipping corpora/subjectivity.zip.\n",
            "[nltk_data]    | Downloading package swadesh to /root/nltk_data...\n",
            "[nltk_data]    |   Unzipping corpora/swadesh.zip.\n",
            "[nltk_data]    | Downloading package switchboard to /root/nltk_data...\n",
            "[nltk_data]    |   Unzipping corpora/switchboard.zip.\n",
            "[nltk_data]    | Downloading package timit to /root/nltk_data...\n",
            "[nltk_data]    |   Unzipping corpora/timit.zip.\n",
            "[nltk_data]    | Downloading package toolbox to /root/nltk_data...\n",
            "[nltk_data]    |   Unzipping corpora/toolbox.zip.\n",
            "[nltk_data]    | Downloading package treebank to /root/nltk_data...\n",
            "[nltk_data]    |   Unzipping corpora/treebank.zip.\n",
            "[nltk_data]    | Downloading package twitter_samples to\n",
            "[nltk_data]    |     /root/nltk_data...\n",
            "[nltk_data]    |   Unzipping corpora/twitter_samples.zip.\n",
            "[nltk_data]    | Downloading package udhr to /root/nltk_data...\n",
            "[nltk_data]    |   Unzipping corpora/udhr.zip.\n",
            "[nltk_data]    | Downloading package udhr2 to /root/nltk_data...\n",
            "[nltk_data]    |   Unzipping corpora/udhr2.zip.\n",
            "[nltk_data]    | Downloading package unicode_samples to\n",
            "[nltk_data]    |     /root/nltk_data...\n",
            "[nltk_data]    |   Unzipping corpora/unicode_samples.zip.\n",
            "[nltk_data]    | Downloading package universal_treebanks_v20 to\n",
            "[nltk_data]    |     /root/nltk_data...\n",
            "[nltk_data]    | Downloading package verbnet to /root/nltk_data...\n",
            "[nltk_data]    |   Unzipping corpora/verbnet.zip.\n",
            "[nltk_data]    | Downloading package verbnet3 to /root/nltk_data...\n",
            "[nltk_data]    |   Unzipping corpora/verbnet3.zip.\n",
            "[nltk_data]    | Downloading package webtext to /root/nltk_data...\n",
            "[nltk_data]    |   Unzipping corpora/webtext.zip.\n",
            "[nltk_data]    | Downloading package wordnet to /root/nltk_data...\n",
            "[nltk_data]    |   Unzipping corpora/wordnet.zip.\n",
            "[nltk_data]    | Downloading package wordnet_ic to /root/nltk_data...\n",
            "[nltk_data]    |   Unzipping corpora/wordnet_ic.zip.\n",
            "[nltk_data]    | Downloading package words to /root/nltk_data...\n",
            "[nltk_data]    |   Unzipping corpora/words.zip.\n",
            "[nltk_data]    | Downloading package ycoe to /root/nltk_data...\n",
            "[nltk_data]    |   Unzipping corpora/ycoe.zip.\n",
            "[nltk_data]    | Downloading package rslp to /root/nltk_data...\n",
            "[nltk_data]    |   Unzipping stemmers/rslp.zip.\n",
            "[nltk_data]    | Downloading package maxent_treebank_pos_tagger to\n",
            "[nltk_data]    |     /root/nltk_data...\n",
            "[nltk_data]    |   Unzipping taggers/maxent_treebank_pos_tagger.zip.\n",
            "[nltk_data]    | Downloading package universal_tagset to\n",
            "[nltk_data]    |     /root/nltk_data...\n",
            "[nltk_data]    |   Unzipping taggers/universal_tagset.zip.\n",
            "[nltk_data]    | Downloading package maxent_ne_chunker to\n",
            "[nltk_data]    |     /root/nltk_data...\n",
            "[nltk_data]    |   Unzipping chunkers/maxent_ne_chunker.zip.\n",
            "[nltk_data]    | Downloading package punkt to /root/nltk_data...\n",
            "[nltk_data]    |   Unzipping tokenizers/punkt.zip.\n",
            "[nltk_data]    | Downloading package book_grammars to\n",
            "[nltk_data]    |     /root/nltk_data...\n",
            "[nltk_data]    |   Unzipping grammars/book_grammars.zip.\n",
            "[nltk_data]    | Downloading package sample_grammars to\n",
            "[nltk_data]    |     /root/nltk_data...\n",
            "[nltk_data]    |   Unzipping grammars/sample_grammars.zip.\n",
            "[nltk_data]    | Downloading package spanish_grammars to\n",
            "[nltk_data]    |     /root/nltk_data...\n",
            "[nltk_data]    |   Unzipping grammars/spanish_grammars.zip.\n",
            "[nltk_data]    | Downloading package basque_grammars to\n",
            "[nltk_data]    |     /root/nltk_data...\n",
            "[nltk_data]    |   Unzipping grammars/basque_grammars.zip.\n",
            "[nltk_data]    | Downloading package large_grammars to\n",
            "[nltk_data]    |     /root/nltk_data...\n",
            "[nltk_data]    |   Unzipping grammars/large_grammars.zip.\n",
            "[nltk_data]    | Downloading package tagsets to /root/nltk_data...\n",
            "[nltk_data]    |   Unzipping help/tagsets.zip.\n",
            "[nltk_data]    | Downloading package snowball_data to\n",
            "[nltk_data]    |     /root/nltk_data...\n",
            "[nltk_data]    | Downloading package bllip_wsj_no_aux to\n",
            "[nltk_data]    |     /root/nltk_data...\n",
            "[nltk_data]    |   Unzipping models/bllip_wsj_no_aux.zip.\n",
            "[nltk_data]    | Downloading package word2vec_sample to\n",
            "[nltk_data]    |     /root/nltk_data...\n",
            "[nltk_data]    |   Unzipping models/word2vec_sample.zip.\n",
            "[nltk_data]    | Downloading package panlex_swadesh to\n",
            "[nltk_data]    |     /root/nltk_data...\n",
            "[nltk_data]    | Downloading package mte_teip5 to /root/nltk_data...\n",
            "[nltk_data]    |   Unzipping corpora/mte_teip5.zip.\n",
            "[nltk_data]    | Downloading package averaged_perceptron_tagger to\n",
            "[nltk_data]    |     /root/nltk_data...\n",
            "[nltk_data]    |   Unzipping taggers/averaged_perceptron_tagger.zip.\n",
            "[nltk_data]    | Downloading package averaged_perceptron_tagger_ru to\n",
            "[nltk_data]    |     /root/nltk_data...\n",
            "[nltk_data]    |   Unzipping\n",
            "[nltk_data]    |       taggers/averaged_perceptron_tagger_ru.zip.\n",
            "[nltk_data]    | Downloading package perluniprops to\n",
            "[nltk_data]    |     /root/nltk_data...\n",
            "[nltk_data]    |   Unzipping misc/perluniprops.zip.\n",
            "[nltk_data]    | Downloading package nonbreaking_prefixes to\n",
            "[nltk_data]    |     /root/nltk_data...\n",
            "[nltk_data]    |   Unzipping corpora/nonbreaking_prefixes.zip.\n",
            "[nltk_data]    | Downloading package vader_lexicon to\n",
            "[nltk_data]    |     /root/nltk_data...\n",
            "[nltk_data]    | Downloading package porter_test to /root/nltk_data...\n",
            "[nltk_data]    |   Unzipping stemmers/porter_test.zip.\n",
            "[nltk_data]    | Downloading package wmt15_eval to /root/nltk_data...\n",
            "[nltk_data]    |   Unzipping models/wmt15_eval.zip.\n",
            "[nltk_data]    | Downloading package mwa_ppdb to /root/nltk_data...\n",
            "[nltk_data]    |   Unzipping misc/mwa_ppdb.zip.\n",
            "[nltk_data]    | \n",
            "[nltk_data]  Done downloading collection all\n"
          ],
          "name": "stdout"
        }
      ]
    },
    {
      "metadata": {
        "id": "m0mo13vi_WUx",
        "colab_type": "code",
        "outputId": "60913fad-48f9-4d19-a138-b3371249a0fc",
        "colab": {
          "resources": {
            "http://localhost:8080/nbextensions/google.colab/files.js": {
              "data": "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",
              "ok": true,
              "headers": [
                [
                  "content-type",
                  "application/javascript"
                ]
              ],
              "status": 200,
              "status_text": ""
            }
          },
          "base_uri": "https://localhost:8080/",
          "height": 73
        }
      },
      "cell_type": "code",
      "source": [
        "#inputfile=\"football_players.txt\" #Location of the file\n",
        "\n",
        "from google.colab import files\n",
        "import io\n",
        "uploaded = files.upload()\n",
        "\n",
        "#To solve the error \"initial_value must be unicode or None, not str\" decode is used\n",
        "inputfile = io.StringIO(uploaded['football_players.txt'].decode('utf-8')).readlines()\n",
        "\n",
        "#buf=open(inputfile, encoding=\"UTF-8\")\n",
        "#print(buf)\n",
        "#list_of_doc=buf.split('\\n')\n"
      ],
      "execution_count": 0,
      "outputs": [
        {
          "output_type": "display_data",
          "data": {
            "text/html": [
              "\n",
              "     <input type=\"file\" id=\"files-6ae8dbed-2cbe-4e46-8b9c-fdfedd1ced17\" name=\"files[]\" multiple disabled />\n",
              "     <output id=\"result-6ae8dbed-2cbe-4e46-8b9c-fdfedd1ced17\">\n",
              "      Upload widget is only available when the cell has been executed in the\n",
              "      current browser session. Please rerun this cell to enable.\n",
              "      </output>\n",
              "      <script src=\"/nbextensions/google.colab/files.js\"></script> "
            ],
            "text/plain": [
              "<IPython.core.display.HTML object>"
            ]
          },
          "metadata": {
            "tags": []
          }
        },
        {
          "output_type": "stream",
          "text": [
            "Saving football_players.txt to football_players.txt\n"
          ],
          "name": "stdout"
        }
      ]
    },
    {
      "metadata": {
        "id": "o9JfZbc4F0fG",
        "colab_type": "code",
        "outputId": "4873cf82-f56c-472c-af5a-cbdda23b28e7",
        "colab": {
          "base_uri": "https://localhost:8080/",
          "height": 205
        }
      },
      "cell_type": "code",
      "source": [
        "list_of_doc = [para.split(\"\\n\")[0] for para in inputfile]\n",
        "\n",
        "list_of_doc = list(filter(None, list_of_doc)) #removing empty string\n",
        "list_of_doc"
      ],
      "execution_count": 0,
      "outputs": [
        {
          "output_type": "execute_result",
          "data": {
            "text/plain": [
              "[\"Cristiano Ronaldo dos Santos Aveiro, ComM, GOIH (born 5 February 1985) is a Portuguese professional footballer who plays for Spanish club Real Madrid and the Portugal national team. He is a forward and serves as captain for Portugal. In 2008, he won his first Ballon d'Or and FIFA World Player of the Year awards. He then won the FIFA Ballon d'Or in 2013 and 2014. In 2015, Ronaldo scored his 500th senior career goal for club and country. Often ranked as the best player in the world, Ronaldo was named the best Portuguese player of all time by the Portuguese Football Federation, during its 100th anniversary celebrations in 2015. He is the only player to win four European Golden Shoe awards. One of the most marketable athletes in sport, in 2016 Forbes named Ronaldo the world's best paid athlete. In June 2016, ESPN ranked him the world's most famous athlete. Ronaldo began his club career playing for Sporting CP, before signing with Manchester United at age 18 in 2003. After winning his first trophy, the FA Cup, during his first season in England, he helped United win three successive Premier League titles, a UEFA Champions League title, and a FIFA Club World Cup. By age 23, he had received Ballon d'Or and FIFA World Player of the Year nominations. He was the subject of the most expensive association football transfer when he moved from Manchester United to Real Madrid in 2009 in a transfer worth €94 million ($132 million). In Spain, he has since won one La Liga title, two Copas del Rey, two Champions League titles, and a Club World Cup. Ronaldo holds the record for most goals scored in a single UEFA Champions League season, having scored 17 goals in the 2013–14 season. In 2014, Ronaldo became the fastest player to score 200 goals in La Liga, which he accomplished in his 178th La Liga game. He is the only player in the history of football to score 50 or more goals in a season on six consecutive occasions. In 2015, Ronaldo became the all-time top goalscorer in the UEFA Champions League, and he also became Real Madrid's all-time leading goalscorer. He is the second highest goalscorer in La Liga history behind Lionel Messi, his perceived career rival. Ronaldo made his international debut for Portugal in August 2003, at the age of 18. He is Portugal's most capped player of all time with over 130 caps, and has participated in seven major tournaments: four UEFA European Championships (2004, 2008, 2012 and 2016) and three FIFA World Cups (2006, 2010 and 2014). He is the first Portuguese player to reach 50 international goals, making him Portugal's all-time top goalscorer. He scored his first international goal in Euro 2004 and helped Portugal reach the final. He took over captaincy in July 2008, and he led Portugal to the semi-finals at Euro 2012, finishing the competition as joint-top scorer. In November 2014, Ronaldo became the all-time top scorer in the UEFA European Championship (including qualifying) with 23 goals. At Euro 2016, he became the most capped player of all-time in the tournament, the first player to score at four consecutive European Championship finals, and also equalled Michel Platini's all-time record for most goals scored in the competition. Ronaldo lifted the trophy after Portugal defeated France in the final, and he received the Silver Boot as one of the second-highest goalscorers of the tournament.\",\n",
              " 'Lionel Andrés \"Leo\" Messi (born 24 June 1987) is an Argentine professional footballer who plays as a forward for Spanish club FC Barcelona and the Argentina national team. Often considered the best player in the world and rated by many in the sport as the greatest of all time, Messi is the only football player in history to win five FIFA Ballons d\\'Or, four of which he won consecutively, and the first player to win three European Golden Shoes. With Barcelona he has won eight La Liga titles and four UEFA Champions League titles, as well as four Copas del Rey. Both a prolific goalscorer and a creative playmaker, Messi holds the records for most goals scored in La Liga, a La Liga season (50), a football season (82), and a calendar year (91), as well as those for most assists made in La Liga and the Copa América. He has scored over 500 senior career goals for club and country. Born and raised in central Argentina, Messi was diagnosed with a growth hormone deficiency as a child. At age 13, he relocated to Spain to join Barcelona, who agreed to pay for his medical treatment. After a fast progression through Barcelona\\'s youth academy, Messi made his competitive debut aged 17 in October 2004. Despite being injury-prone during his early career, he established himself as an integral player for the club within the next three years, finishing 2007 as a finalist for both the Ballon d\\'Or and FIFA World Player of the Year award, a feat he repeated the following year. His first uninterrupted campaign came in the 2008–09 season, during which he helped Barcelona achieve the first treble in Spanish football. At 22 years old, Messi won the Ballon d\\'Or and FIFA World Player of the Year award by record voting margins. Three successful seasons followed, with Messi winning three consecutive FIFA Ballons d\\'Or, including an unprecedented fourth. His personal best campaign to date was the 2011–12 season, in which he set the La Liga and European records for most goals scored in a single season, while establishing himself as Barcelona\\'s all-time top scorer in official competitions in March 2012. He again struggled with injury during the following two seasons, twice finishing second for the Ballon d\\'Or behind Cristiano Ronaldo, his perceived career rival. Messi regained his best form during the 2014–15 campaign, breaking the all-time goalscoring records in both La Liga and the Champions League in November 2014, and led Barcelona to a historic second treble. He is currently the second best goalscorer in the history of the European Cup/Champions League. An Argentine international, Messi is his country\\'s all-time leading goalscorer. At youth level, he won the 2005 FIFA World Youth Championship, finishing the tournament with both the Golden Ball and Golden Shoe, and an Olympic gold medal at the 2008 Summer Olympics. His style of play as a diminutive, left-footed dribbler drew comparisons with compatriot Diego Maradona, who declared the teenager his successor. After making his senior debut in August 2005, Messi became the youngest Argentine to play and score in a FIFA World Cup during the 2006 edition, and reached the final of the 2007 Copa América, where he was named young player of the tournament. As the squad\\'s captain from August 2011, he led Argentina to three consecutive finals of the 2014 World Cup, for which he won the Golden Ball, and the 2015 and 2016 Copas América. He was convicted of tax fraud committed from 2007 to 2009, for which he received a fine and a suspended prison sentence.',\n",
              " \"Neymar da Silva Santos Júnior (born 5 February 1992), commonly known as Neymar or Neymar Jr., is a Brazilian professional footballer who plays as a forward for Spanish club FC Barcelona and the Brazil national team. Neymar came into prominence at an early age at Santos, where he made his professional debut aged 17. He helped the club win two successive Campeonato Paulista championships, a Copa do Brasil, and the 2011 Copa Libertadores, Santos' first continental title since 1963. Neymar was twice named the South American Footballer of the Year, in 2011 and 2012, before relocating to Europe to join Barcelona. As part of Barça's attacking trio with Lionel Messi and Luis Suárez, he won the continental treble of La Liga, the Copa del Rey, and the UEFA Champions League in the 2014–15 season, followed the next year by the domestic double. He came third for the FIFA Ballon d'Or in 2015. With 49 goals in 73 matches for Brazil since debuting at age 18, Neymar is the fourth-highest goalscorer for his national team. He was a key player in Brazil's victories at the 2011 South American Youth Championship, which he finished as the leading goalscorer, and the 2013 FIFA Confederations Cup, where he won the Golden Ball as player of the tournament. His participation in the 2014 FIFA World Cup and 2015 Copa América was cut short by injury and a suspension respectively, but the next year he captained Brazil to their first Olympic gold medal in men's football at the 2016 Summer Olympics. Known for his dribbling, finishing, and ability with both feet, Neymar has earned comparisons to former Brazil and Santos forward Pelé. Off the pitch, he ranks among the world's most prominent sportsmen; SportsPro named him the most marketable athlete in the world in 2012 and 2013, and ESPN cited him as the world's fourth-most famous athlete in 2016.\",\n",
              " 'Ronaldo de Assis Moreira (born 21 March 1980), commonly known as Ronaldinho (Brazilian Portuguese: [ʁonawˈdʒĩɲu]) or Ronaldinho Gaúcho, is a Brazilian professional footballer and current club ambassador for Spanish club FC Barcelona after signing for them in September 2016. His main playing position is as an attacking midfielder or forward. He won the FIFA World Player of the Year award in 2004 and 2005. Renowned for his technique, tricks, dribbling, overhead kicks, no-look passes and free kicks, Ronaldinho is regarded to be one of the best players of his generation. \"Ronaldinho\", the diminutive and term of endearment for \"Ronaldo\", is accompanied in Brazilian usage by the nickname \"Gaúcho\" (since he hails from southern Brazil), in order to distinguish him from fellow footballer and countryman Ronaldo, who was known as \"Ronaldinho\" in Brazil beforehand. Ronaldo went by his first name upon his move to Europe, thereby allowing Ronaldinho to drop the \"Gaúcho\" and go by the name Ronaldinho abroad. Ronaldinho has played 97 matches and scored 33 goals for the Brazil national team. He was an integral part of the 2002 FIFA World Cup-winning team in Korea and Japan, starring alongside Ronaldo and Rivaldo in an attacking trio, and was named in the FIFA World Cup All-Star Team. At club level, Ronaldinho played first for the Brazilian club Grêmio before spending the bulk of his career with European clubs Paris Saint-Germain, Barcelona and Milan. He then returned to Brazil to play for Flamengo and Atlético Mineiro before moving to Mexico to play for Querétaro. With Barcelona, he won La Liga twice, the UEFA Champions League in 2006 and accumulated numerous individual awards, including the FIFA World Player of the Year in 2004 and 2005 and the Ballon d\\'Or in 2005. Ronaldinho was named in the FIFA 100, a list of the world\\'s greatest living players compiled by Pelé, and to the FIFPro World XI from 2005–2007. ',\n",
              " \"Wayne Mark Rooney (born 24 October 1985) is an English professional footballer who plays for and captains both Manchester United and the England national team. He has played much of his career as a forward, but he has also been used in various midfield roles. Aged nine, Rooney joined the youth team of Everton, for whom he made his professional debut in 2002 at the age of 16. He spent two seasons at the Merseyside club, before moving to Manchester United for £25.6 million in the 2004 summer transfer window. Since then, with Rooney in the team, United have won the Premier League five times, the UEFA Champions League once, the FIFA Club World Cup once, the FA Community Shield four times, the Football League Cup twice and the FA Cup once. In September 2013, Rooney scored his 200th goal for Manchester United. He is currently on 246 goals, making him the club's second top goalscorer of all time. His 194 Premier League goals make him the competition's second top scorer of all time, and he holds the record for most goals for one club in the Premier League, with 179 for Manchester United. Rooney made his senior international debut in February 2003 aged 17, becoming the youngest player to represent England (a record since broken by Theo Walcott) and he is England's youngest ever goalscorer. He played at UEFA Euro 2004 and scored four goals, briefly becoming the youngest goalscorer in the history of the European Championship. Rooney has since featured at the 2006, 2010 and 2014 World Cups and is widely regarded as his country's best player. He has won the England Player of the Year award four times, in 2008, 2009, 2014 and 2015. With 53 goals in 118 international caps, Rooney is England's all-time record goalscorer and second most-capped player. Along with David Beckham, Rooney is the most red carded player for England, having been sent off twice. In 2009–10, Rooney was awarded the PFA Players' Player of the Year and the FWA Footballer of the Year. He has won the Premier League Player of the Month award five times, a record only bettered by Steven Gerrard. He came fifth in the vote for the 2011 FIFA Ballon d'Or and was named in the FIFPro World 11 for 2011. Rooney has won the Goal of the Season award by the BBC's Match of the Day poll on three occasions, with his bicycle kick against rivals Manchester City winning the Premier League Goal of the 20 Seasons award.\",\n",
              " \"Zlatan Ibrahimović (born 3 October 1981) is a Swedish professional footballer who plays as a striker for Manchester United. He was also a member of the Sweden national team, making his senior international debut in 2001 and serving as captain from 2010 until he retired from international football in 2016. Ibrahimović began his career at Malmö FF in the late 1990s before being signed by Ajax, where he made a name for himself. He signed for Juventus and excelled in Serie A in a strike partnership with David Trezeguet. In 2006, he signed for rival side Inter Milan and was named to the UEFA Team of the Year in both 2007 and 2009. In addition, Ibrahimović would finish as the league's top scorer in 2008–09 and win three straight Scudetti. In the summer of 2009, he transferred to Barcelona, before moving back to Serie A football the following season, joining A.C. Milan in a deal that made him one of the highest-paid players in the world. He won another Scudetto with Milan in the 2010–2011 season. He joined Paris Saint-Germain in July 2012. During his four-season stay at PSG, Ibrahimović won four consecutive Ligue 1 titles, three Coupes de la Ligue, two Coupes de France and was the top scorer in Ligue 1 for three seasons. In October 2015, he became PSG's all time leading goalscorer. He finished his PSG career with 156 goals in 180 competitive matches. Ibrahimović is one of ten players to have made 100 or more appearances for the Swedish national team. He is the country's all-time leading goalscorer with 62 goals. He represented Sweden at the 2002 and 2006 FIFA World Cups, as well as the 2004, 2008, 2012, and 2016 UEFA European Championships. He has been awarded Guldbollen (the Golden Ball), given to the Swedish player of the year, a record ten times, including nine consecutive times from 2007 and 2015. With his playing style and acrobatic finishing compared to Dutch retired striker Marco van Basten, Ibrahimović is widely regarded as one of the best strikers in the game and one of the best footballers of his generation. His spectacular bicycle kick for Sweden against England won the 2013 FIFA Puskás Award for Goal of the Year. Off the field, he is known for his brash persona and outspoken comments, in addition to referring to himself in the third person. In December 2013, Ibrahimović was ranked by The Guardian as the third-best player in the world, behind only Lionel Messi and Cristiano Ronaldo. In December 2014, the Swedish newspaper Dagens Nyheter named him the second-greatest Swedish sportsperson of all time, after tennis player Björn Borg.\",\n",
              " \"David Robert Joseph Beckham, OBE (born 2 May 1975) is an English former professional footballer. He played for Manchester United, Preston North End, Real Madrid, Milan, LA Galaxy, Paris Saint-Germain, and the England national team for which he held the appearance record for an outfield player until 2016 when Wayne Rooney surpassed his total. He is the first English player to win league titles in four countries: England, Spain, the United States and France. He announced his retirement in May 2013 after a 20-year career, during which he won 19 major trophies. Known for his range of passing, crossing ability and bending free-kicks as a right winger, Beckham was twice runner-up for FIFA World Player of the Year and in 2004 he was named in the FIFA 100 list of the world's greatest living players. Beckham's professional club career began with Manchester United, where he made his first-team debut in 1992 aged 17. With United, he won the Premier League title six times, the FA Cup twice, and the UEFA Champions League in 1999. He then played four seasons with Real Madrid, winning the La Liga championship in his final season with the club. In July 2007 Beckham signed a five-year contract with Major League Soccer club LA Galaxy. While a Galaxy player, he spent two loan spells in Italy with Milan in 2009 and 2010. He was the first British footballer to play 100 UEFA Champions League games. In international football, Beckham made his England debut on 1 September 1996 at the age of 21. He was captain for six years, earning 58 caps during his tenure. He made 115 career appearances in total, appearing at three FIFA World Cup tournaments, the 1998, 2002 and 2006 editions and two UEFA European Championship tournaments, the 2000 and 2004 editions. One of the most marketable athletes in sport, Beckham has consistently ranked among the highest earners in football, and in 2013 he was listed as the highest-paid player in the world, earning over $50 million in the previous 12 months. He has been married to Victoria Beckham since 1999 and they have four children. He has been a UNICEF UK ambassador since 2005, and in 2015 he launched 7: The David Beckham UNICEF Fund to help protect children in danger around the world. In February 2014, MLS announced Beckham and a group of investors would own an expansion team in Miami, which would begin in 2016 or 2017.\",\n",
              " \"Mesut Özil (born 15 October 1988) is a German footballer who plays for English club Arsenal and the German national team. Özil has been a youth national team member since 2006, and a member of the German national team since 2009. He gained international attention during the 2010 FIFA World Cup and was nominated for the Golden Ball Award, which is awarded to the tournament's best player. Özil started his senior career at hometown club Schalke in the Bundesliga in 2006, transferred to Werder Bremen in 2008 and was signed by Real Madrid in August 2010 following his break-out performance at the FIFA World Cup with Germany. On transfer deadline day of summer 2013 he moved to Arsenal for a fee of £42.5 million, a record for the club and the highest fee ever paid for a German player. Özil is acclaimed for his finesse and improvisation as an attacking midfielder. His style and ability for providing assists for his team-mates has been compared by former manager José Mourinho to that of Real Madrid legend Zinedine Zidane. In 2010–11, Özil ranked first in assists in major European and domestic competitions with 25. In 2011–12, he ranked first in assists in La Liga with 17. Özil was the joint-highest assist provider at both the 2010 FIFA World Cup and UEFA Euro 2012, registering three at each tournament. \",\n",
              " 'Gareth Frank Bale (born 16 July 1989) is a Welsh professional footballer who plays as a winger for Spanish club Real Madrid and the Wales national team. Renowned for his ball striking from distance, swerving free kicks, and his ability to get past defenders with pace, Bale has received plaudits from his peers, who have described him as a footballer with \"tremendous speed, great crossing ability, a great left foot and exceptional physical qualities\". He began his professional career at Southampton, playing at left-back and earning acclaim as a free kick specialist. Bale moved to Tottenham Hotspur in 2007, for an eventual £7 million fee. During his time at Tottenham, managerial and tactical shifts saw him transform into a more attacking player. From the 2009–10 season, under the guidance of Harry Redknapp, Bale became an integral part of the team, rising to international attention during the 2010–11 UEFA Champions League. In 2011 and 2013 he was named PFA Players\\' Player of the Year, and was named in the UEFA Team of the Year. In 2013 he was also named PFA Young Player of the Year and the FWA Footballer of the Year. On 1 September 2013, Bale was transferred to Real Madrid for an undisclosed fee. Press at the time reported the transfer value at figures between €91 million and €100 million. In January 2016, documents pertaining to the transfer were leaked which confirmed a then-world record transfer fee of €100.8 million, eclipsing the previous record fee of £80 million (€94 million) for Cristiano Ronaldo in 2009. Bale played an integral role in his first season at Real Madrid, helping the club to win the 2013–14 Copa del Rey and UEFA Champions League, scoring in both finals. The following season he won the UEFA Super Cup and scored in a third major final to help the club win the FIFA Club World Cup. Two years later, he was a key player in another Champions League run, winning the 2015–16 title and being elected to the UEFA Squad of the Season. In 2016, ESPN ranked Bale twelfth on its list of the world\\'s most famous athletes. Bale made his senior international debut for Wales in May 2006, becoming the youngest player at that point to represent the nation. He has since earned over 60 caps and scored 25 international goals, making him Wales\\' second-highest scorer of all time behind Ian Rush. He was the top goalscorer for Wales in their successful qualifying campaign for UEFA Euro 2016, scoring seven goals; he subsequently represented his nation in the final tournament as they reached the semi-finals. ',\n",
              " \"Andrés Iniesta Luján (born 11 May 1984) is a Spanish professional footballer who plays as a central midfielder for FC Barcelona and the Spain national team. He serves as the captain for Barcelona. Iniesta came through La Masia, the Barcelona youth academy, after an early emigration from his birthplace, and impressed from an early age. He made his first-team debut aged 18 in 2002. He began playing regularly during the 2004–05 season and has remained in the team ever since. Iniesta was an integral part of the Barcelona sides that won two historic trebles in 2009 and 2015, and his 32 trophies make him the most decorated Spanish footballer of all time. Iniesta played for Spain at the Under-16, Under-19 and Under-21 levels before making his international debut in 2006. He helped Spain win Euro 2008, playing every game and being selected in the Team of the Tournament. Iniesta was also a key member of the victorious Spanish team at the 2010 World Cup; he scored the winning goal in the final against the Netherlands, for which he was named the Man of the Match, and was selected to the tournament's All-Star Team. At Euro 2012, Iniesta steered Spain to their second consecutive continental crown, again being chosen as the Man of the Match of the final against Italy, and was named the Player of the Tournament. Iniesta is considered to be one of the best players of his generation and one of the greatest midfielders of all time. Since 2009, he has been chosen in the UEFA Team of the Year five times and has been voted into the FIFA World XI on seven occasions. Iniesta won the UEFA Best Player in Europe award in 2012 and was named the IFFHS World's Best Playmaker in 2012 and 2013. He was runner-up to Lionel Messi for the 2010 FIFA Ballon d'Or and achieved third place in 2012.\"]"
            ]
          },
          "metadata": {
            "tags": []
          },
          "execution_count": 166
        }
      ]
    },
    {
      "metadata": {
        "id": "kvjo3y3xKEU4",
        "colab_type": "code",
        "outputId": "4a936185-5548-42c1-f37d-ca0731b82ea7",
        "colab": {
          "base_uri": "https://localhost:8080/",
          "height": 54
        }
      },
      "cell_type": "code",
      "source": [
        "list_of_doc[2]"
      ],
      "execution_count": 0,
      "outputs": [
        {
          "output_type": "execute_result",
          "data": {
            "text/plain": [
              "\"Neymar da Silva Santos Júnior (born 5 February 1992), commonly known as Neymar or Neymar Jr., is a Brazilian professional footballer who plays as a forward for Spanish club FC Barcelona and the Brazil national team. Neymar came into prominence at an early age at Santos, where he made his professional debut aged 17. He helped the club win two successive Campeonato Paulista championships, a Copa do Brasil, and the 2011 Copa Libertadores, Santos' first continental title since 1963. Neymar was twice named the South American Footballer of the Year, in 2011 and 2012, before relocating to Europe to join Barcelona. As part of Barça's attacking trio with Lionel Messi and Luis Suárez, he won the continental treble of La Liga, the Copa del Rey, and the UEFA Champions League in the 2014–15 season, followed the next year by the domestic double. He came third for the FIFA Ballon d'Or in 2015. With 49 goals in 73 matches for Brazil since debuting at age 18, Neymar is the fourth-highest goalscorer for his national team. He was a key player in Brazil's victories at the 2011 South American Youth Championship, which he finished as the leading goalscorer, and the 2013 FIFA Confederations Cup, where he won the Golden Ball as player of the tournament. His participation in the 2014 FIFA World Cup and 2015 Copa América was cut short by injury and a suspension respectively, but the next year he captained Brazil to their first Olympic gold medal in men's football at the 2016 Summer Olympics. Known for his dribbling, finishing, and ability with both feet, Neymar has earned comparisons to former Brazil and Santos forward Pelé. Off the pitch, he ranks among the world's most prominent sportsmen; SportsPro named him the most marketable athlete in the world in 2012 and 2013, and ESPN cited him as the world's fourth-most famous athlete in 2016.\""
            ]
          },
          "metadata": {
            "tags": []
          },
          "execution_count": 167
        }
      ]
    },
    {
      "metadata": {
        "id": "DCEJrJ-p_WU1",
        "colab_type": "text"
      },
      "cell_type": "markdown",
      "source": [
        "# Task 1 (10 Marks)\n",
        "Write a function that takes each document and performs:\n",
        "1) sentence segmentation 2) tokenization 3) part-of-speech tagging\n",
        "\n",
        "Please keep in mind that the expected output is a list within a list as shown below.\n"
      ]
    },
    {
      "metadata": {
        "id": "U3MCJIcR_WU2",
        "colab_type": "code",
        "colab": {}
      },
      "cell_type": "code",
      "source": [
        "def ie_preprocess(document):\n",
        "  sent_segment = nk.sent_tokenize(document)\n",
        "  word_token = [nk.word_tokenize(sent) for sent in sent_segment]\n",
        "  pos_sentences = [nk.pos_tag(sent) for sent in word_token]\n",
        "  return pos_sentences"
      ],
      "execution_count": 0,
      "outputs": []
    },
    {
      "metadata": {
        "id": "-E04CUNb_WU6",
        "colab_type": "text"
      },
      "cell_type": "markdown",
      "source": [
        "Run the following code to check your result for the first document (Ronaldo)."
      ]
    },
    {
      "metadata": {
        "id": "R30taRgf_WU6",
        "colab_type": "code",
        "outputId": "422c7570-81e9-440f-80d6-87f27737d630",
        "colab": {
          "base_uri": "https://localhost:8080/",
          "height": 11021
        }
      },
      "cell_type": "code",
      "source": [
        "first_doc=list_of_doc[0]\n",
        "pos_sent=ie_preprocess(first_doc)\n",
        "pos_sent"
      ],
      "execution_count": 0,
      "outputs": [
        {
          "output_type": "execute_result",
          "data": {
            "text/plain": [
              "[[('Cristiano', 'NNP'),\n",
              "  ('Ronaldo', 'NNP'),\n",
              "  ('dos', 'NN'),\n",
              "  ('Santos', 'NNP'),\n",
              "  ('Aveiro', 'NNP'),\n",
              "  (',', ','),\n",
              "  ('ComM', 'NNP'),\n",
              "  (',', ','),\n",
              "  ('GOIH', 'NNP'),\n",
              "  ('(', '('),\n",
              "  ('born', 'VBN'),\n",
              "  ('5', 'CD'),\n",
              "  ('February', 'NNP'),\n",
              "  ('1985', 'CD'),\n",
              "  (')', ')'),\n",
              "  ('is', 'VBZ'),\n",
              "  ('a', 'DT'),\n",
              "  ('Portuguese', 'JJ'),\n",
              "  ('professional', 'JJ'),\n",
              "  ('footballer', 'NN'),\n",
              "  ('who', 'WP'),\n",
              "  ('plays', 'VBZ'),\n",
              "  ('for', 'IN'),\n",
              "  ('Spanish', 'JJ'),\n",
              "  ('club', 'NN'),\n",
              "  ('Real', 'NNP'),\n",
              "  ('Madrid', 'NNP'),\n",
              "  ('and', 'CC'),\n",
              "  ('the', 'DT'),\n",
              "  ('Portugal', 'NNP'),\n",
              "  ('national', 'JJ'),\n",
              "  ('team', 'NN'),\n",
              "  ('.', '.')],\n",
              " [('He', 'PRP'),\n",
              "  ('is', 'VBZ'),\n",
              "  ('a', 'DT'),\n",
              "  ('forward', 'NN'),\n",
              "  ('and', 'CC'),\n",
              "  ('serves', 'NNS'),\n",
              "  ('as', 'IN'),\n",
              "  ('captain', 'NN'),\n",
              "  ('for', 'IN'),\n",
              "  ('Portugal', 'NNP'),\n",
              "  ('.', '.')],\n",
              " [('In', 'IN'),\n",
              "  ('2008', 'CD'),\n",
              "  (',', ','),\n",
              "  ('he', 'PRP'),\n",
              "  ('won', 'VBD'),\n",
              "  ('his', 'PRP$'),\n",
              "  ('first', 'JJ'),\n",
              "  ('Ballon', 'NNP'),\n",
              "  (\"d'Or\", 'NN'),\n",
              "  ('and', 'CC'),\n",
              "  ('FIFA', 'NNP'),\n",
              "  ('World', 'NNP'),\n",
              "  ('Player', 'NNP'),\n",
              "  ('of', 'IN'),\n",
              "  ('the', 'DT'),\n",
              "  ('Year', 'NN'),\n",
              "  ('awards', 'NNS'),\n",
              "  ('.', '.')],\n",
              " [('He', 'PRP'),\n",
              "  ('then', 'RB'),\n",
              "  ('won', 'VBD'),\n",
              "  ('the', 'DT'),\n",
              "  ('FIFA', 'NNP'),\n",
              "  ('Ballon', 'NNP'),\n",
              "  (\"d'Or\", 'NN'),\n",
              "  ('in', 'IN'),\n",
              "  ('2013', 'CD'),\n",
              "  ('and', 'CC'),\n",
              "  ('2014', 'CD'),\n",
              "  ('.', '.')],\n",
              " [('In', 'IN'),\n",
              "  ('2015', 'CD'),\n",
              "  (',', ','),\n",
              "  ('Ronaldo', 'NNP'),\n",
              "  ('scored', 'VBD'),\n",
              "  ('his', 'PRP$'),\n",
              "  ('500th', 'JJ'),\n",
              "  ('senior', 'JJ'),\n",
              "  ('career', 'NN'),\n",
              "  ('goal', 'NN'),\n",
              "  ('for', 'IN'),\n",
              "  ('club', 'NN'),\n",
              "  ('and', 'CC'),\n",
              "  ('country', 'NN'),\n",
              "  ('.', '.')],\n",
              " [('Often', 'RB'),\n",
              "  ('ranked', 'VBN'),\n",
              "  ('as', 'IN'),\n",
              "  ('the', 'DT'),\n",
              "  ('best', 'JJS'),\n",
              "  ('player', 'NN'),\n",
              "  ('in', 'IN'),\n",
              "  ('the', 'DT'),\n",
              "  ('world', 'NN'),\n",
              "  (',', ','),\n",
              "  ('Ronaldo', 'NNP'),\n",
              "  ('was', 'VBD'),\n",
              "  ('named', 'VBN'),\n",
              "  ('the', 'DT'),\n",
              "  ('best', 'JJS'),\n",
              "  ('Portuguese', 'JJ'),\n",
              "  ('player', 'NN'),\n",
              "  ('of', 'IN'),\n",
              "  ('all', 'DT'),\n",
              "  ('time', 'NN'),\n",
              "  ('by', 'IN'),\n",
              "  ('the', 'DT'),\n",
              "  ('Portuguese', 'NNP'),\n",
              "  ('Football', 'NNP'),\n",
              "  ('Federation', 'NNP'),\n",
              "  (',', ','),\n",
              "  ('during', 'IN'),\n",
              "  ('its', 'PRP$'),\n",
              "  ('100th', 'JJ'),\n",
              "  ('anniversary', 'JJ'),\n",
              "  ('celebrations', 'NNS'),\n",
              "  ('in', 'IN'),\n",
              "  ('2015', 'CD'),\n",
              "  ('.', '.')],\n",
              " [('He', 'PRP'),\n",
              "  ('is', 'VBZ'),\n",
              "  ('the', 'DT'),\n",
              "  ('only', 'JJ'),\n",
              "  ('player', 'NN'),\n",
              "  ('to', 'TO'),\n",
              "  ('win', 'VB'),\n",
              "  ('four', 'CD'),\n",
              "  ('European', 'JJ'),\n",
              "  ('Golden', 'NNP'),\n",
              "  ('Shoe', 'NNP'),\n",
              "  ('awards', 'NNS'),\n",
              "  ('.', '.')],\n",
              " [('One', 'CD'),\n",
              "  ('of', 'IN'),\n",
              "  ('the', 'DT'),\n",
              "  ('most', 'RBS'),\n",
              "  ('marketable', 'JJ'),\n",
              "  ('athletes', 'NNS'),\n",
              "  ('in', 'IN'),\n",
              "  ('sport', 'NN'),\n",
              "  (',', ','),\n",
              "  ('in', 'IN'),\n",
              "  ('2016', 'CD'),\n",
              "  ('Forbes', 'NNP'),\n",
              "  ('named', 'VBD'),\n",
              "  ('Ronaldo', 'NNP'),\n",
              "  ('the', 'DT'),\n",
              "  ('world', 'NN'),\n",
              "  (\"'s\", 'POS'),\n",
              "  ('best', 'JJS'),\n",
              "  ('paid', 'VBD'),\n",
              "  ('athlete', 'NN'),\n",
              "  ('.', '.')],\n",
              " [('In', 'IN'),\n",
              "  ('June', 'NNP'),\n",
              "  ('2016', 'CD'),\n",
              "  (',', ','),\n",
              "  ('ESPN', 'NNP'),\n",
              "  ('ranked', 'VBD'),\n",
              "  ('him', 'PRP'),\n",
              "  ('the', 'DT'),\n",
              "  ('world', 'NN'),\n",
              "  (\"'s\", 'POS'),\n",
              "  ('most', 'RBS'),\n",
              "  ('famous', 'JJ'),\n",
              "  ('athlete', 'NN'),\n",
              "  ('.', '.')],\n",
              " [('Ronaldo', 'NNP'),\n",
              "  ('began', 'VBD'),\n",
              "  ('his', 'PRP$'),\n",
              "  ('club', 'NN'),\n",
              "  ('career', 'NN'),\n",
              "  ('playing', 'NN'),\n",
              "  ('for', 'IN'),\n",
              "  ('Sporting', 'VBG'),\n",
              "  ('CP', 'NNP'),\n",
              "  (',', ','),\n",
              "  ('before', 'IN'),\n",
              "  ('signing', 'VBG'),\n",
              "  ('with', 'IN'),\n",
              "  ('Manchester', 'NNP'),\n",
              "  ('United', 'NNP'),\n",
              "  ('at', 'IN'),\n",
              "  ('age', 'NN'),\n",
              "  ('18', 'CD'),\n",
              "  ('in', 'IN'),\n",
              "  ('2003', 'CD'),\n",
              "  ('.', '.')],\n",
              " [('After', 'IN'),\n",
              "  ('winning', 'VBG'),\n",
              "  ('his', 'PRP$'),\n",
              "  ('first', 'JJ'),\n",
              "  ('trophy', 'NN'),\n",
              "  (',', ','),\n",
              "  ('the', 'DT'),\n",
              "  ('FA', 'NNP'),\n",
              "  ('Cup', 'NNP'),\n",
              "  (',', ','),\n",
              "  ('during', 'IN'),\n",
              "  ('his', 'PRP$'),\n",
              "  ('first', 'JJ'),\n",
              "  ('season', 'NN'),\n",
              "  ('in', 'IN'),\n",
              "  ('England', 'NNP'),\n",
              "  (',', ','),\n",
              "  ('he', 'PRP'),\n",
              "  ('helped', 'VBD'),\n",
              "  ('United', 'NNP'),\n",
              "  ('win', 'VB'),\n",
              "  ('three', 'CD'),\n",
              "  ('successive', 'JJ'),\n",
              "  ('Premier', 'NNP'),\n",
              "  ('League', 'NNP'),\n",
              "  ('titles', 'NNS'),\n",
              "  (',', ','),\n",
              "  ('a', 'DT'),\n",
              "  ('UEFA', 'NNP'),\n",
              "  ('Champions', 'NNP'),\n",
              "  ('League', 'NNP'),\n",
              "  ('title', 'NN'),\n",
              "  (',', ','),\n",
              "  ('and', 'CC'),\n",
              "  ('a', 'DT'),\n",
              "  ('FIFA', 'NNP'),\n",
              "  ('Club', 'NNP'),\n",
              "  ('World', 'NNP'),\n",
              "  ('Cup', 'NNP'),\n",
              "  ('.', '.')],\n",
              " [('By', 'IN'),\n",
              "  ('age', 'NN'),\n",
              "  ('23', 'CD'),\n",
              "  (',', ','),\n",
              "  ('he', 'PRP'),\n",
              "  ('had', 'VBD'),\n",
              "  ('received', 'VBN'),\n",
              "  ('Ballon', 'NNP'),\n",
              "  (\"d'Or\", 'NN'),\n",
              "  ('and', 'CC'),\n",
              "  ('FIFA', 'NNP'),\n",
              "  ('World', 'NNP'),\n",
              "  ('Player', 'NNP'),\n",
              "  ('of', 'IN'),\n",
              "  ('the', 'DT'),\n",
              "  ('Year', 'NNP'),\n",
              "  ('nominations', 'NNS'),\n",
              "  ('.', '.')],\n",
              " [('He', 'PRP'),\n",
              "  ('was', 'VBD'),\n",
              "  ('the', 'DT'),\n",
              "  ('subject', 'NN'),\n",
              "  ('of', 'IN'),\n",
              "  ('the', 'DT'),\n",
              "  ('most', 'RBS'),\n",
              "  ('expensive', 'JJ'),\n",
              "  ('association', 'NN'),\n",
              "  ('football', 'NN'),\n",
              "  ('transfer', 'NN'),\n",
              "  ('when', 'WRB'),\n",
              "  ('he', 'PRP'),\n",
              "  ('moved', 'VBD'),\n",
              "  ('from', 'IN'),\n",
              "  ('Manchester', 'NNP'),\n",
              "  ('United', 'NNP'),\n",
              "  ('to', 'TO'),\n",
              "  ('Real', 'VB'),\n",
              "  ('Madrid', 'NNP'),\n",
              "  ('in', 'IN'),\n",
              "  ('2009', 'CD'),\n",
              "  ('in', 'IN'),\n",
              "  ('a', 'DT'),\n",
              "  ('transfer', 'NN'),\n",
              "  ('worth', 'JJ'),\n",
              "  ('€94', 'CD'),\n",
              "  ('million', 'CD'),\n",
              "  ('(', '('),\n",
              "  ('$', '$'),\n",
              "  ('132', 'CD'),\n",
              "  ('million', 'CD'),\n",
              "  (')', ')'),\n",
              "  ('.', '.')],\n",
              " [('In', 'IN'),\n",
              "  ('Spain', 'NNP'),\n",
              "  (',', ','),\n",
              "  ('he', 'PRP'),\n",
              "  ('has', 'VBZ'),\n",
              "  ('since', 'IN'),\n",
              "  ('won', 'VBN'),\n",
              "  ('one', 'CD'),\n",
              "  ('La', 'NNP'),\n",
              "  ('Liga', 'NNP'),\n",
              "  ('title', 'NN'),\n",
              "  (',', ','),\n",
              "  ('two', 'CD'),\n",
              "  ('Copas', 'NNP'),\n",
              "  ('del', 'FW'),\n",
              "  ('Rey', 'NNP'),\n",
              "  (',', ','),\n",
              "  ('two', 'CD'),\n",
              "  ('Champions', 'NNP'),\n",
              "  ('League', 'NNP'),\n",
              "  ('titles', 'NNS'),\n",
              "  (',', ','),\n",
              "  ('and', 'CC'),\n",
              "  ('a', 'DT'),\n",
              "  ('Club', 'NNP'),\n",
              "  ('World', 'NNP'),\n",
              "  ('Cup', 'NNP'),\n",
              "  ('.', '.')],\n",
              " [('Ronaldo', 'NNP'),\n",
              "  ('holds', 'VBZ'),\n",
              "  ('the', 'DT'),\n",
              "  ('record', 'NN'),\n",
              "  ('for', 'IN'),\n",
              "  ('most', 'JJS'),\n",
              "  ('goals', 'NNS'),\n",
              "  ('scored', 'VBN'),\n",
              "  ('in', 'IN'),\n",
              "  ('a', 'DT'),\n",
              "  ('single', 'JJ'),\n",
              "  ('UEFA', 'NNP'),\n",
              "  ('Champions', 'NNP'),\n",
              "  ('League', 'NNP'),\n",
              "  ('season', 'NN'),\n",
              "  (',', ','),\n",
              "  ('having', 'VBG'),\n",
              "  ('scored', 'VBN'),\n",
              "  ('17', 'CD'),\n",
              "  ('goals', 'NNS'),\n",
              "  ('in', 'IN'),\n",
              "  ('the', 'DT'),\n",
              "  ('2013–14', 'CD'),\n",
              "  ('season', 'NN'),\n",
              "  ('.', '.')],\n",
              " [('In', 'IN'),\n",
              "  ('2014', 'CD'),\n",
              "  (',', ','),\n",
              "  ('Ronaldo', 'NNP'),\n",
              "  ('became', 'VBD'),\n",
              "  ('the', 'DT'),\n",
              "  ('fastest', 'JJS'),\n",
              "  ('player', 'NN'),\n",
              "  ('to', 'TO'),\n",
              "  ('score', 'VB'),\n",
              "  ('200', 'CD'),\n",
              "  ('goals', 'NNS'),\n",
              "  ('in', 'IN'),\n",
              "  ('La', 'NNP'),\n",
              "  ('Liga', 'NNP'),\n",
              "  (',', ','),\n",
              "  ('which', 'WDT'),\n",
              "  ('he', 'PRP'),\n",
              "  ('accomplished', 'VBD'),\n",
              "  ('in', 'IN'),\n",
              "  ('his', 'PRP$'),\n",
              "  ('178th', 'CD'),\n",
              "  ('La', 'NNP'),\n",
              "  ('Liga', 'NNP'),\n",
              "  ('game', 'NN'),\n",
              "  ('.', '.')],\n",
              " [('He', 'PRP'),\n",
              "  ('is', 'VBZ'),\n",
              "  ('the', 'DT'),\n",
              "  ('only', 'JJ'),\n",
              "  ('player', 'NN'),\n",
              "  ('in', 'IN'),\n",
              "  ('the', 'DT'),\n",
              "  ('history', 'NN'),\n",
              "  ('of', 'IN'),\n",
              "  ('football', 'NN'),\n",
              "  ('to', 'TO'),\n",
              "  ('score', 'VB'),\n",
              "  ('50', 'CD'),\n",
              "  ('or', 'CC'),\n",
              "  ('more', 'JJR'),\n",
              "  ('goals', 'NNS'),\n",
              "  ('in', 'IN'),\n",
              "  ('a', 'DT'),\n",
              "  ('season', 'NN'),\n",
              "  ('on', 'IN'),\n",
              "  ('six', 'CD'),\n",
              "  ('consecutive', 'JJ'),\n",
              "  ('occasions', 'NNS'),\n",
              "  ('.', '.')],\n",
              " [('In', 'IN'),\n",
              "  ('2015', 'CD'),\n",
              "  (',', ','),\n",
              "  ('Ronaldo', 'NNP'),\n",
              "  ('became', 'VBD'),\n",
              "  ('the', 'DT'),\n",
              "  ('all-time', 'JJ'),\n",
              "  ('top', 'JJ'),\n",
              "  ('goalscorer', 'NN'),\n",
              "  ('in', 'IN'),\n",
              "  ('the', 'DT'),\n",
              "  ('UEFA', 'NNP'),\n",
              "  ('Champions', 'NNP'),\n",
              "  ('League', 'NNP'),\n",
              "  (',', ','),\n",
              "  ('and', 'CC'),\n",
              "  ('he', 'PRP'),\n",
              "  ('also', 'RB'),\n",
              "  ('became', 'VBD'),\n",
              "  ('Real', 'NNP'),\n",
              "  ('Madrid', 'NNP'),\n",
              "  (\"'s\", 'POS'),\n",
              "  ('all-time', 'JJ'),\n",
              "  ('leading', 'JJ'),\n",
              "  ('goalscorer', 'NN'),\n",
              "  ('.', '.')],\n",
              " [('He', 'PRP'),\n",
              "  ('is', 'VBZ'),\n",
              "  ('the', 'DT'),\n",
              "  ('second', 'JJ'),\n",
              "  ('highest', 'JJS'),\n",
              "  ('goalscorer', 'NN'),\n",
              "  ('in', 'IN'),\n",
              "  ('La', 'NNP'),\n",
              "  ('Liga', 'NNP'),\n",
              "  ('history', 'NN'),\n",
              "  ('behind', 'IN'),\n",
              "  ('Lionel', 'NNP'),\n",
              "  ('Messi', 'NNP'),\n",
              "  (',', ','),\n",
              "  ('his', 'PRP$'),\n",
              "  ('perceived', 'JJ'),\n",
              "  ('career', 'NN'),\n",
              "  ('rival', 'NN'),\n",
              "  ('.', '.')],\n",
              " [('Ronaldo', 'NNP'),\n",
              "  ('made', 'VBD'),\n",
              "  ('his', 'PRP$'),\n",
              "  ('international', 'JJ'),\n",
              "  ('debut', 'NN'),\n",
              "  ('for', 'IN'),\n",
              "  ('Portugal', 'NNP'),\n",
              "  ('in', 'IN'),\n",
              "  ('August', 'NNP'),\n",
              "  ('2003', 'CD'),\n",
              "  (',', ','),\n",
              "  ('at', 'IN'),\n",
              "  ('the', 'DT'),\n",
              "  ('age', 'NN'),\n",
              "  ('of', 'IN'),\n",
              "  ('18', 'CD'),\n",
              "  ('.', '.')],\n",
              " [('He', 'PRP'),\n",
              "  ('is', 'VBZ'),\n",
              "  ('Portugal', 'NNP'),\n",
              "  (\"'s\", 'POS'),\n",
              "  ('most', 'JJS'),\n",
              "  ('capped', 'JJ'),\n",
              "  ('player', 'NN'),\n",
              "  ('of', 'IN'),\n",
              "  ('all', 'DT'),\n",
              "  ('time', 'NN'),\n",
              "  ('with', 'IN'),\n",
              "  ('over', 'IN'),\n",
              "  ('130', 'CD'),\n",
              "  ('caps', 'NNS'),\n",
              "  (',', ','),\n",
              "  ('and', 'CC'),\n",
              "  ('has', 'VBZ'),\n",
              "  ('participated', 'VBN'),\n",
              "  ('in', 'IN'),\n",
              "  ('seven', 'CD'),\n",
              "  ('major', 'JJ'),\n",
              "  ('tournaments', 'NNS'),\n",
              "  (':', ':'),\n",
              "  ('four', 'CD'),\n",
              "  ('UEFA', 'IN'),\n",
              "  ('European', 'JJ'),\n",
              "  ('Championships', 'NNP'),\n",
              "  ('(', '('),\n",
              "  ('2004', 'CD'),\n",
              "  (',', ','),\n",
              "  ('2008', 'CD'),\n",
              "  (',', ','),\n",
              "  ('2012', 'CD'),\n",
              "  ('and', 'CC'),\n",
              "  ('2016', 'CD'),\n",
              "  (')', ')'),\n",
              "  ('and', 'CC'),\n",
              "  ('three', 'CD'),\n",
              "  ('FIFA', 'NNP'),\n",
              "  ('World', 'NNP'),\n",
              "  ('Cups', 'NNP'),\n",
              "  ('(', '('),\n",
              "  ('2006', 'CD'),\n",
              "  (',', ','),\n",
              "  ('2010', 'CD'),\n",
              "  ('and', 'CC'),\n",
              "  ('2014', 'CD'),\n",
              "  (')', ')'),\n",
              "  ('.', '.')],\n",
              " [('He', 'PRP'),\n",
              "  ('is', 'VBZ'),\n",
              "  ('the', 'DT'),\n",
              "  ('first', 'JJ'),\n",
              "  ('Portuguese', 'NNP'),\n",
              "  ('player', 'NN'),\n",
              "  ('to', 'TO'),\n",
              "  ('reach', 'VB'),\n",
              "  ('50', 'CD'),\n",
              "  ('international', 'JJ'),\n",
              "  ('goals', 'NNS'),\n",
              "  (',', ','),\n",
              "  ('making', 'VBG'),\n",
              "  ('him', 'PRP'),\n",
              "  ('Portugal', 'NNP'),\n",
              "  (\"'s\", 'POS'),\n",
              "  ('all-time', 'JJ'),\n",
              "  ('top', 'JJ'),\n",
              "  ('goalscorer', 'NN'),\n",
              "  ('.', '.')],\n",
              " [('He', 'PRP'),\n",
              "  ('scored', 'VBD'),\n",
              "  ('his', 'PRP$'),\n",
              "  ('first', 'JJ'),\n",
              "  ('international', 'JJ'),\n",
              "  ('goal', 'NN'),\n",
              "  ('in', 'IN'),\n",
              "  ('Euro', 'NNP'),\n",
              "  ('2004', 'CD'),\n",
              "  ('and', 'CC'),\n",
              "  ('helped', 'VBD'),\n",
              "  ('Portugal', 'NNP'),\n",
              "  ('reach', 'VB'),\n",
              "  ('the', 'DT'),\n",
              "  ('final', 'JJ'),\n",
              "  ('.', '.')],\n",
              " [('He', 'PRP'),\n",
              "  ('took', 'VBD'),\n",
              "  ('over', 'RP'),\n",
              "  ('captaincy', 'NN'),\n",
              "  ('in', 'IN'),\n",
              "  ('July', 'NNP'),\n",
              "  ('2008', 'CD'),\n",
              "  (',', ','),\n",
              "  ('and', 'CC'),\n",
              "  ('he', 'PRP'),\n",
              "  ('led', 'VBD'),\n",
              "  ('Portugal', 'NNP'),\n",
              "  ('to', 'TO'),\n",
              "  ('the', 'DT'),\n",
              "  ('semi-finals', 'NNS'),\n",
              "  ('at', 'IN'),\n",
              "  ('Euro', 'NNP'),\n",
              "  ('2012', 'CD'),\n",
              "  (',', ','),\n",
              "  ('finishing', 'VBG'),\n",
              "  ('the', 'DT'),\n",
              "  ('competition', 'NN'),\n",
              "  ('as', 'IN'),\n",
              "  ('joint-top', 'JJ'),\n",
              "  ('scorer', 'NN'),\n",
              "  ('.', '.')],\n",
              " [('In', 'IN'),\n",
              "  ('November', 'NNP'),\n",
              "  ('2014', 'CD'),\n",
              "  (',', ','),\n",
              "  ('Ronaldo', 'NNP'),\n",
              "  ('became', 'VBD'),\n",
              "  ('the', 'DT'),\n",
              "  ('all-time', 'JJ'),\n",
              "  ('top', 'JJ'),\n",
              "  ('scorer', 'NN'),\n",
              "  ('in', 'IN'),\n",
              "  ('the', 'DT'),\n",
              "  ('UEFA', 'NNP'),\n",
              "  ('European', 'NNP'),\n",
              "  ('Championship', 'NNP'),\n",
              "  ('(', '('),\n",
              "  ('including', 'VBG'),\n",
              "  ('qualifying', 'VBG'),\n",
              "  (')', ')'),\n",
              "  ('with', 'IN'),\n",
              "  ('23', 'CD'),\n",
              "  ('goals', 'NNS'),\n",
              "  ('.', '.')],\n",
              " [('At', 'IN'),\n",
              "  ('Euro', 'NNP'),\n",
              "  ('2016', 'CD'),\n",
              "  (',', ','),\n",
              "  ('he', 'PRP'),\n",
              "  ('became', 'VBD'),\n",
              "  ('the', 'DT'),\n",
              "  ('most', 'RBS'),\n",
              "  ('capped', 'JJ'),\n",
              "  ('player', 'NN'),\n",
              "  ('of', 'IN'),\n",
              "  ('all-time', 'NN'),\n",
              "  ('in', 'IN'),\n",
              "  ('the', 'DT'),\n",
              "  ('tournament', 'NN'),\n",
              "  (',', ','),\n",
              "  ('the', 'DT'),\n",
              "  ('first', 'JJ'),\n",
              "  ('player', 'NN'),\n",
              "  ('to', 'TO'),\n",
              "  ('score', 'VB'),\n",
              "  ('at', 'IN'),\n",
              "  ('four', 'CD'),\n",
              "  ('consecutive', 'JJ'),\n",
              "  ('European', 'JJ'),\n",
              "  ('Championship', 'NNP'),\n",
              "  ('finals', 'NNS'),\n",
              "  (',', ','),\n",
              "  ('and', 'CC'),\n",
              "  ('also', 'RB'),\n",
              "  ('equalled', 'VBD'),\n",
              "  ('Michel', 'NNP'),\n",
              "  ('Platini', 'NNP'),\n",
              "  (\"'s\", 'POS'),\n",
              "  ('all-time', 'JJ'),\n",
              "  ('record', 'NN'),\n",
              "  ('for', 'IN'),\n",
              "  ('most', 'JJS'),\n",
              "  ('goals', 'NNS'),\n",
              "  ('scored', 'VBN'),\n",
              "  ('in', 'IN'),\n",
              "  ('the', 'DT'),\n",
              "  ('competition', 'NN'),\n",
              "  ('.', '.')],\n",
              " [('Ronaldo', 'NNP'),\n",
              "  ('lifted', 'VBD'),\n",
              "  ('the', 'DT'),\n",
              "  ('trophy', 'NN'),\n",
              "  ('after', 'IN'),\n",
              "  ('Portugal', 'NNP'),\n",
              "  ('defeated', 'VBD'),\n",
              "  ('France', 'NNP'),\n",
              "  ('in', 'IN'),\n",
              "  ('the', 'DT'),\n",
              "  ('final', 'JJ'),\n",
              "  (',', ','),\n",
              "  ('and', 'CC'),\n",
              "  ('he', 'PRP'),\n",
              "  ('received', 'VBD'),\n",
              "  ('the', 'DT'),\n",
              "  ('Silver', 'NNP'),\n",
              "  ('Boot', 'NNP'),\n",
              "  ('as', 'IN'),\n",
              "  ('one', 'CD'),\n",
              "  ('of', 'IN'),\n",
              "  ('the', 'DT'),\n",
              "  ('second-highest', 'JJ'),\n",
              "  ('goalscorers', 'NNS'),\n",
              "  ('of', 'IN'),\n",
              "  ('the', 'DT'),\n",
              "  ('tournament', 'NN'),\n",
              "  ('.', '.')]]"
            ]
          },
          "metadata": {
            "tags": []
          },
          "execution_count": 169
        }
      ]
    },
    {
      "metadata": {
        "id": "OMw70Wm8_WU-",
        "colab_type": "text"
      },
      "cell_type": "markdown",
      "source": [
        "Expected output\n",
        " [...[('He', 'PRP'),\n",
        "  ('is', 'VBZ'),\n",
        "  ('a', 'DT'),\n",
        "  ('forward', 'NN'),\n",
        "  ('and', 'CC'),\n",
        "  ('serves', 'NNS'),\n",
        "  ('as', 'IN'),\n",
        "  ('captain', 'NN'),\n",
        "  ('for', 'IN'),\n",
        "  ('Portugal', 'NNP'),\n",
        "  ('.', '.')], ...]"
      ]
    },
    {
      "metadata": {
        "id": "tYTwrZId_WU_",
        "colab_type": "text"
      },
      "cell_type": "markdown",
      "source": [
        "# Task 2 (20 Marks)\n",
        "Write a function that will take the list of tokens with POS tags for each sentence and returns the named entities (NE). \n",
        "\n",
        "Hint: Use binary=True while calling NE chunk function"
      ]
    },
    {
      "metadata": {
        "id": "5fC0iqJJ_WU_",
        "colab_type": "code",
        "outputId": "04fee41a-d278-4268-d646-866b65be0f62",
        "colab": {
          "base_uri": "https://localhost:8080/",
          "height": 151
        }
      },
      "cell_type": "code",
      "source": [
        "def named_entity_finding(pos_sent):\n",
        "  tree = nk.ne_chunk(pos_sent, binary=True)\n",
        "  named_entities = []\n",
        "  for subtree in tree.subtrees():    \n",
        "    if subtree.label() == 'NE':\n",
        "        entity = \"\"\n",
        "        for leaf in subtree.leaves():\n",
        "            entity = entity + leaf[0] + \" \"\n",
        "        named_entities.append(entity.strip())\n",
        "  return named_entities\n",
        "\n",
        "pos_sents = ie_preprocess(list_of_doc[0])\n",
        "named_entity_finding(pos_sents[0])\n",
        "#There is typing error in the provided out Portuguese will come only once."
      ],
      "execution_count": 0,
      "outputs": [
        {
          "output_type": "execute_result",
          "data": {
            "text/plain": [
              "['Cristiano Ronaldo',\n",
              " 'Santos Aveiro',\n",
              " 'ComM',\n",
              " 'GOIH',\n",
              " 'Portuguese',\n",
              " 'Spanish',\n",
              " 'Real Madrid',\n",
              " 'Portugal']"
            ]
          },
          "metadata": {
            "tags": []
          },
          "execution_count": 171
        }
      ]
    },
    {
      "metadata": {
        "id": "fDolbFKE_WVD",
        "colab_type": "text"
      },
      "cell_type": "markdown",
      "source": [
        "Expected output ['Cristiano Ronaldo',\n",
        " 'Santos Aveiro',\n",
        " 'ComM',\n",
        " 'GOIH',\n",
        " 'Portuguese',\n",
        " 'Portuguese',\n",
        " 'Spanish',\n",
        " 'Real Madrid',\n",
        " 'Portugal']"
      ]
    },
    {
      "metadata": {
        "id": "XHMp7xtK_WVE",
        "colab_type": "text"
      },
      "cell_type": "markdown",
      "source": [
        "# Task 3 (10 Marks)\n",
        "\n",
        "Now use the named_entity_finding() function to extract all NEs for each document.\n",
        "\n",
        "Hint: pos_sents holds the list of lists of tokens with POS tags"
      ]
    },
    {
      "metadata": {
        "id": "TwFlzQx4_WVF",
        "colab_type": "code",
        "colab": {}
      },
      "cell_type": "code",
      "source": [
        "def NE_flat_list_fn(pos_sents): \n",
        "    NE=[]\n",
        "    for pos_sent in pos_sents:\n",
        "        #Single line code here. Call the funtion named_entity_finding(pos_sent) and \n",
        "                #append the result to the NE list    \n",
        "      NE.append(named_entity_finding(pos_sent))\n",
        "    #Single line code here. Flatten the list of lists to the single list NE_flat_list\n",
        "    NE_flat_list = [item for sublist in NE for item in sublist]\n",
        "    return NE_flat_list"
      ],
      "execution_count": 0,
      "outputs": []
    },
    {
      "metadata": {
        "id": "qN76ZeiDYzx5",
        "colab_type": "code",
        "outputId": "d4177921-96c8-4fd5-e18c-3016f0f3f555",
        "colab": {
          "base_uri": "https://localhost:8080/",
          "height": 941
        }
      },
      "cell_type": "code",
      "source": [
        "NE_flat_list_fn(pos_sents)"
      ],
      "execution_count": 0,
      "outputs": [
        {
          "output_type": "execute_result",
          "data": {
            "text/plain": [
              "['Cristiano Ronaldo',\n",
              " 'Santos Aveiro',\n",
              " 'ComM',\n",
              " 'GOIH',\n",
              " 'Portuguese',\n",
              " 'Spanish',\n",
              " 'Real Madrid',\n",
              " 'Portugal',\n",
              " 'Portugal',\n",
              " 'Ballon',\n",
              " 'FIFA',\n",
              " 'FIFA Ballon',\n",
              " 'Ronaldo',\n",
              " 'Ronaldo',\n",
              " 'Portuguese',\n",
              " 'Portuguese Football Federation',\n",
              " 'European Golden Shoe',\n",
              " 'ESPN',\n",
              " 'Ronaldo',\n",
              " 'Manchester United',\n",
              " 'England',\n",
              " 'United',\n",
              " 'UEFA Champions League',\n",
              " 'FIFA Club',\n",
              " 'Ballon',\n",
              " 'FIFA',\n",
              " 'Manchester United',\n",
              " 'Madrid',\n",
              " 'Spain',\n",
              " 'Ronaldo',\n",
              " 'UEFA Champions League',\n",
              " 'Ronaldo',\n",
              " 'La Liga',\n",
              " 'Ronaldo',\n",
              " 'UEFA Champions League',\n",
              " 'Real Madrid',\n",
              " 'La Liga',\n",
              " 'Lionel Messi',\n",
              " 'Ronaldo',\n",
              " 'Portugal',\n",
              " 'Portugal',\n",
              " 'European',\n",
              " 'FIFA World Cups',\n",
              " 'Portuguese',\n",
              " 'Portugal',\n",
              " 'Portugal',\n",
              " 'Portugal',\n",
              " 'Ronaldo',\n",
              " 'UEFA European',\n",
              " 'European',\n",
              " 'Michel Platini',\n",
              " 'Ronaldo',\n",
              " 'Portugal',\n",
              " 'France',\n",
              " 'Silver Boot']"
            ]
          },
          "metadata": {
            "tags": []
          },
          "execution_count": 173
        }
      ]
    },
    {
      "metadata": {
        "id": "l7-ma9lJ_WVJ",
        "colab_type": "text"
      },
      "cell_type": "markdown",
      "source": [
        "\n",
        "# Task 4 (40 Marks)\n",
        "\n",
        "Write functions to extract the name of the player, country of origin and date of birth as well as the following relations: team(s) of the player and position(s) of the player.\n",
        "\n",
        "Hint: Use the re.compile() function to create the extraction patterns\n",
        "\n",
        "Reference: https://docs.python.org/3/howto/regex.html"
      ]
    },
    {
      "metadata": {
        "id": "ZRDsjBWsX70H",
        "colab_type": "code",
        "colab": {}
      },
      "cell_type": "code",
      "source": [
        "#Function to remove the partial matches.\n",
        "#For e.g. ['Barcelona', 'Paris Saint-Germain', 'Juventus', 'FC Barcelona', 'Ajax', 'Inter Milan', 'A.C. Milan']\n",
        "#This function will remove the \"Barcelona\" as Barcelona and FC Barcelona is same. Moreover, Barcelona word is coming inside the FC Barcelona.\n",
        "\n",
        "def filtering_partial_regex(teams_ans):\n",
        "  single_words = []\n",
        "  not_single = []\n",
        "  for xx in teams_ans:\n",
        "    if(len(xx.split(\" \")) == 1):\n",
        "      single_words.append(xx)\n",
        "    else:\n",
        "      not_single.append(xx)\n",
        "\n",
        "  for y in not_single:\n",
        "    for r in y.split(\" \"):\n",
        "      if(\"-\" in r):\n",
        "        [teams_ans.remove(t) for t in teams_ans if t==r.split(\"-\")[1]]\n",
        "        [teams_ans.remove(t) for t in teams_ans if t==r.split(\"-\")[0]]\n",
        "      else:\n",
        "        if(r in single_words):\n",
        "          [teams_ans.remove(t) for t in teams_ans if t==r]\n",
        "  \n",
        "  return(teams_ans)"
      ],
      "execution_count": 0,
      "outputs": []
    },
    {
      "metadata": {
        "id": "tbaFyiah_WVK",
        "colab_type": "code",
        "colab": {}
      },
      "cell_type": "code",
      "source": [
        "def name_of_the_player(doc):\n",
        "    name =[]\n",
        "    preprocessed_words = ie_preprocess(doc)\n",
        "    list_to_pass = named_entity_finding(preprocessed_words[0])\n",
        "    \n",
        "    #The pattern of palyer name is at the starting of the paragraph till the born word. Making the generalised regex which is given below. \n",
        "    NAME = re.compile(r'(?=^)(\\w.+)(?=\\,\\s(C|O))|(?=^)(\\w.+)(?=\\s\\(\\bborn\\b)')\n",
        "    name = NAME.search(doc).group()\n",
        "    return name\n",
        "\n",
        "def country_of_origin(doc):\n",
        "    #For the country the pattern is a word preceding to the national team. The generalised regex is working in a same way. Other possible regex is also given below (commented) which will also work similarly.\n",
        "    #COUNTRY = re.compile(r'(?<=\\b(?<=\\band\\b|\\bfor\\b) the\\s\\b).[\\w]+(?=\\b national team\\b)')\n",
        "    COUNTRY = re.compile(r'(\\w+)(?=\\s\\bnational team\\b)', re.IGNORECASE)\n",
        "    \n",
        "    country = COUNTRY.search(doc).group()    \n",
        "    return country\n",
        "\n",
        "def date_of_birth(doc):\n",
        "    #For the born the pattern is born and details in the brackets. The generalised regex is finding the born and its details enclosed in brackets and displaying the result.\n",
        "    #Another alternative regex is also mentioned just below (commented) which also gives the correct result.\n",
        "    #\\bborn*[a-z|A-Z|\\d|\\s]+\\b\n",
        "    BORN = re.compile(r'(?<=\\bborn\\s\\b).[a-z|A-Z|\\d|\\s]+', re.IGNORECASE)\n",
        "    \n",
        "    date = BORN.search(doc).group()    \n",
        "    return date\n",
        "\n",
        "def team_of_the_player(doc):\n",
        "    #NOTE: Considering players team as a club only not the national teams as we have already taken out the national teams in the country_of_origin method.\n",
        "    #If national team is also part of the team than we can combine the result of this method with country_of_origin. eg. final_result_team + country_of_origin(doc).\n",
        "    result_team = list()\n",
        "    teams = list()\n",
        "    \n",
        "    #For finding the team of the players making almost generalised regex which is given below.\n",
        "    #The main idea is using the keywords like \"plays for\", \"siging with\", \"moved to\", \"transferred to\", \"clubs\" etc. These are some of the normal and generalised words which will be present in\n",
        "    #any of the document. Here, modify them with the help of grammer. We can also use POS tagging and grammer for parsing, but since question asked for the regex so building the regex.\n",
        "    TEAM = re.compile(r'(?<=\\bclub\\s\\b)((\\s*[A-Z]\\w+){0,2})|(?:\\bsigning with\\s\\b|\\bplaying for\\s\\b|(?<=\\b\\,\\sbefore moving to\\s\\b)|\\bseasons at the\\s\\b|\\btransferred to\\s\\b|\\bsigned (?:\\bby\\s\\b)\\b)((\\s*\\w+){0,2})|(?<=\\bclubs\\s\\b)(\\s*\\w.+)(?=\\.\\s\\bHe\\b)|(?<=\\byouth team of\\s\\b)((\\s*[A-Z]\\w+))|(?<=\\bplayed for\\s\\b)(\\s*\\w.+)(?=\\,\\s\\band the(?:\\s\\w+)\\snational team\\b)|(?<=\\bprofessional career at\\s\\b)(\\s*\\w+)|(?<=\\bas the captain for\\s\\b)(\\w+)|(?<=\\bsigned for rival side\\s\\b)((\\s*\\w+){0,2})|(?:\\bHe joined\\s\\b|\\bjoining\\s\\b)(\\w.+)(?=\\s\\bin a\\b)|(?<=\\bHe joined\\s\\b)((\\s*\\w+|\\-){0,4})|(?<=\\bsigned for\\s\\b)(\\w.+)(?=\\s\\band excelled\\b)|(?<=\\bhe moved to\\s\\b)(\\s*\\w+)|(?<=\\bmoved to\\s\\b)((\\s*\\w+){0,2})|(?<=\\bto play for\\s\\b)(\\s*\\w.+)(?=\\s\\bbefore\\b)|(?<=\\bto play for\\s\\b)(\\w+)')\n",
        "    \n",
        "    team = TEAM.findall(doc)    \n",
        "    for i in range(len(team)):\n",
        "      teams = teams + list(filter(None, team[i]))\n",
        "    \n",
        "    #Creating the regex for removing extra space from the words\n",
        "    partial_match_words = re.compile(r'^\\s\\b')   \n",
        "    \n",
        "    #Loop which remove the \"commans\" and \"and\" in the result so that we will get list of all the teams.\n",
        "    #For e.g. from \"Manchester United, Preston North End, Real Madrid, Milan, LA Galaxy, Paris Saint-Germain\" all the \",\" and \"and\" will be removed.\n",
        "    for p in range(len(teams)):\n",
        "      if(',' in teams[p]):\n",
        "        removing_commas = teams[p].split(\", \")\n",
        "        for rc in range(len(removing_commas)):\n",
        "          if(\" and \" in removing_commas[rc]):\n",
        "            result_team = result_team + removing_commas[rc].split(\" and \")\n",
        "          else:\n",
        "            result_team.append(removing_commas[rc])\n",
        "      elif('and' in teams[p]):\n",
        "          result_team = result_team + teams[p].split(\" and \")\n",
        "      elif(partial_match_words.match(teams[p]) == None):\n",
        "        result_team.append(teams[p])\n",
        "    \n",
        "    final_result_team = filtering_partial_regex(list(set(result_team)))\n",
        "    \n",
        "    return list(set(final_result_team))\n",
        "\n",
        "def position_of_the_player(doc):\n",
        "    result_pos = list()\n",
        "    \n",
        "    #Since in soccer we have limited positions, so creating the list of all the positions and finding it in the given document. The generalised regex is given below.\n",
        "    POSITION = re.compile(r'(\\bstriker\\b)|(\\bforward\\b)|(\\bleft winger\\b|\\bright winger\\b|winger)|(\\bcentral midfielder\\b|\\battacking midfielder\\b)|((\\b(central\\s)*(left-back|right-back)\\b)+)|(\\b(full|central) back\\b)|(\\bgoalkeeper\\b)', re.IGNORECASE)\n",
        "    position = POSITION.findall(doc)\n",
        "    \n",
        "    #Removing the empty tupples from the above output.\n",
        "    for i in range(len(position)):\n",
        "      result_pos = result_pos + list(filter(None, position[i]))\n",
        "      \n",
        "    return list(set(result_pos))"
      ],
      "execution_count": 0,
      "outputs": []
    },
    {
      "metadata": {
        "id": "SgcP7A-f_YwG",
        "colab_type": "code",
        "outputId": "4f8e5f9e-36bd-4cfc-cb17-a6b3c1a23fd1",
        "colab": {
          "base_uri": "https://localhost:8080/",
          "height": 34
        }
      },
      "cell_type": "code",
      "source": [
        "name_of_the_player(list_of_doc[9])"
      ],
      "execution_count": 0,
      "outputs": [
        {
          "output_type": "execute_result",
          "data": {
            "text/plain": [
              "'Andrés Iniesta Luján'"
            ]
          },
          "metadata": {
            "tags": []
          },
          "execution_count": 177
        }
      ]
    },
    {
      "metadata": {
        "id": "HTPTm97IadQh",
        "colab_type": "code",
        "outputId": "8bc1ae60-4731-44ba-9d22-3e60146fc90d",
        "colab": {
          "base_uri": "https://localhost:8080/",
          "height": 34
        }
      },
      "cell_type": "code",
      "source": [
        "country_of_origin(list_of_doc[9])"
      ],
      "execution_count": 0,
      "outputs": [
        {
          "output_type": "execute_result",
          "data": {
            "text/plain": [
              "'Spain'"
            ]
          },
          "metadata": {
            "tags": []
          },
          "execution_count": 178
        }
      ]
    },
    {
      "metadata": {
        "id": "5V4lijdASRFi",
        "colab_type": "code",
        "outputId": "55ea7b87-88d2-4be7-e4f6-54f7dbbf1327",
        "colab": {
          "base_uri": "https://localhost:8080/",
          "height": 34
        }
      },
      "cell_type": "code",
      "source": [
        "position_of_the_player(list_of_doc[8])"
      ],
      "execution_count": 0,
      "outputs": [
        {
          "output_type": "execute_result",
          "data": {
            "text/plain": [
              "['winger', 'left-back']"
            ]
          },
          "metadata": {
            "tags": []
          },
          "execution_count": 179
        }
      ]
    },
    {
      "metadata": {
        "id": "QTduoDQsfJiJ",
        "colab_type": "code",
        "outputId": "1a7d124c-45bf-48e5-e702-38cc3da38b4d",
        "colab": {
          "base_uri": "https://localhost:8080/",
          "height": 118
        }
      },
      "cell_type": "code",
      "source": [
        "team_of_the_player(list_of_doc[5])"
      ],
      "execution_count": 0,
      "outputs": [
        {
          "output_type": "execute_result",
          "data": {
            "text/plain": [
              "['Barcelona',\n",
              " 'Paris Saint-Germain',\n",
              " 'Juventus',\n",
              " 'Ajax',\n",
              " 'Inter Milan',\n",
              " 'A.C. Milan']"
            ]
          },
          "metadata": {
            "tags": []
          },
          "execution_count": 180
        }
      ]
    },
    {
      "metadata": {
        "id": "K-CNrMM5_WVO",
        "colab_type": "text"
      },
      "cell_type": "markdown",
      "source": [
        "Execute the below command to check your fuction\n"
      ]
    },
    {
      "metadata": {
        "id": "DOYgu6O7HmKg",
        "colab_type": "code",
        "outputId": "b624d3f1-f39a-4d2d-aa7c-3c6c858411b1",
        "colab": {
          "base_uri": "https://localhost:8080/",
          "height": 34
        }
      },
      "cell_type": "code",
      "source": [
        "date_of_birth(list_of_doc[2])"
      ],
      "execution_count": 0,
      "outputs": [
        {
          "output_type": "execute_result",
          "data": {
            "text/plain": [
              "'5 February 1992'"
            ]
          },
          "metadata": {
            "tags": []
          },
          "execution_count": 182
        }
      ]
    },
    {
      "metadata": {
        "id": "7g3p6CcQ_WVS",
        "colab_type": "text"
      },
      "cell_type": "markdown",
      "source": [
        "Expected output '5 February 1992'"
      ]
    },
    {
      "metadata": {
        "id": "sCYflDpp_WVU",
        "colab_type": "text"
      },
      "cell_type": "markdown",
      "source": [
        "# Task 5 (10 Marks)\n",
        "\n",
        "Write a function using the outputs from the previous functions to generate JSON-LD output as follows.\n",
        "\n",
        "Reference: https://json-ld.org/primer/latest/\n",
        "\n",
        "{ \"@id\": \"http://my-soccer-ontology.com/footballer/name_of_the_player\",\n",
        "\n",
        "    \"name\": \"\",\n",
        "    \"born\": \"\",\n",
        "    \"country\": \"\",\n",
        "    \"position\": [\n",
        "        { \"@id\": \"http://my-soccer-ontology.com/position\",\n",
        "            \"type\": \"\"\n",
        "        }\n",
        "     ]   \n",
        "     \"team\": [\n",
        "        { \"@id\": \"http://my-soccer-ontology.com/team\",\n",
        "            \"name\": \"\"\n",
        "        }   \n",
        "     ]\n",
        "}\n"
      ]
    },
    {
      "metadata": {
        "id": "AOyj8r1u4uFR",
        "colab_type": "code",
        "colab": {}
      },
      "cell_type": "code",
      "source": [
        "import json"
      ],
      "execution_count": 0,
      "outputs": []
    },
    {
      "metadata": {
        "id": "z8HStdlu_WVU",
        "colab_type": "code",
        "colab": {}
      },
      "cell_type": "code",
      "source": [
        "#It will take a document as an argument. Passing only one argument so that user don't have to pass details manually (for user simplicity).\n",
        "def generate_jsonld(doc):\n",
        "    #Hint: arg1,arg2,..... are the arguments you will be passing to the function\n",
        "    \n",
        "    #Taking out the required document.\n",
        "    player_name = name_of_the_player(doc)\n",
        "    player_dob = date_of_birth(doc)\n",
        "    player_country = country_of_origin(doc)\n",
        "    player_position = []\n",
        "    player_teams = []\n",
        "    \n",
        "    #Converting the player all position into JSON-LD format\n",
        "    player_all_position = position_of_the_player(doc)\n",
        "    for pos in range(len(player_all_position)):\n",
        "      individual_pos = {\n",
        "             \"@id\": \"http://my-soccer-ontology.com/\"+ player_all_position[pos],\n",
        "             \"type\": player_all_position[pos]\n",
        "            }\n",
        "      player_position.append(individual_pos)\n",
        "\n",
        "    #Converting the player all teams into JSON-LD format\n",
        "    player_all_team = team_of_the_player(doc)\n",
        "    for team in range(len(player_all_team)):\n",
        "      individual_team = {\n",
        "             \"@id\": \"http://my-soccer-ontology.com/\"+ player_all_team[team],\n",
        "             \"type\": player_all_team[team]\n",
        "            }\n",
        "      player_teams.append(individual_team)\n",
        "\n",
        "    json_data = { \"@id\": \"http://my-soccer-ontology.com/footballer/\"+ player_name,\n",
        "\n",
        "                  \"name\": player_name,\n",
        "                  \"born\": player_dob,\n",
        "                  \"country\": player_country,\n",
        "                  \"position\": player_position, \n",
        "                   \"team\": player_teams\n",
        "                  }\n",
        "    return json.dumps(json_data)\n"
      ],
      "execution_count": 0,
      "outputs": []
    },
    {
      "metadata": {
        "id": "GqeTCw4B0SaT",
        "colab_type": "code",
        "outputId": "152fdef6-c09c-4ea5-9593-f60d948df089",
        "colab": {
          "base_uri": "https://localhost:8080/",
          "height": 54
        }
      },
      "cell_type": "code",
      "source": [
        "generate_jsonld(list_of_doc[3])"
      ],
      "execution_count": 0,
      "outputs": [
        {
          "output_type": "execute_result",
          "data": {
            "text/plain": [
              "'{\"@id\": \"http://my-soccer-ontology.com/footballer/Ronaldo de Assis Moreira\", \"name\": \"Ronaldo de Assis Moreira\", \"born\": \"21 March 1980\", \"country\": \"Brazil\", \"position\": [{\"@id\": \"http://my-soccer-ontology.com/attacking midfielder\", \"type\": \"attacking midfielder\"}, {\"@id\": \"http://my-soccer-ontology.com/forward\", \"type\": \"forward\"}], \"team\": [{\"@id\": \"http://my-soccer-ontology.com/Milan\", \"type\": \"Milan\"}, {\"@id\": \"http://my-soccer-ontology.com/Quer\\\\u00e9taro\", \"type\": \"Quer\\\\u00e9taro\"}, {\"@id\": \"http://my-soccer-ontology.com/Flamengo\", \"type\": \"Flamengo\"}, {\"@id\": \"http://my-soccer-ontology.com/Paris Saint-Germain\", \"type\": \"Paris Saint-Germain\"}, {\"@id\": \"http://my-soccer-ontology.com/Atl\\\\u00e9tico Mineiro\", \"type\": \"Atl\\\\u00e9tico Mineiro\"}, {\"@id\": \"http://my-soccer-ontology.com/Gr\\\\u00eamio\", \"type\": \"Gr\\\\u00eamio\"}, {\"@id\": \"http://my-soccer-ontology.com/FC Barcelona\", \"type\": \"FC Barcelona\"}]}'"
            ]
          },
          "metadata": {
            "tags": []
          },
          "execution_count": 187
        }
      ]
    },
    {
      "metadata": {
        "id": "i3VtWxBr_WVZ",
        "colab_type": "text"
      },
      "cell_type": "markdown",
      "source": [
        "# Task 6 (10 Marks)\n",
        "Identify one other relation (besides team and player) and write a function to extract this. Also extend the JSON-LD output accordingly."
      ]
    },
    {
      "metadata": {
        "id": "VdXSBf_JHFPQ",
        "colab_type": "code",
        "colab": {}
      },
      "cell_type": "code",
      "source": [
        "#========================================================== Solution ============================================================================"
      ],
      "execution_count": 0,
      "outputs": []
    },
    {
      "metadata": {
        "id": "pYsjtiMxEGxH",
        "colab_type": "text"
      },
      "cell_type": "markdown",
      "source": [
        "\n",
        "\n",
        "---\n",
        "\n",
        "\n",
        "I am taking debut year and the age of the player from which he enters into professional football career. However, it is important to note that, these two values are not available for all the players. Hence, if debut year or debut age is not present I have added as \"Not Available\" as a default value.\n",
        "\n",
        "---\n",
        "\n",
        "\n",
        "\n"
      ]
    },
    {
      "metadata": {
        "id": "8vdjyjMXLByS",
        "colab_type": "code",
        "colab": {}
      },
      "cell_type": "code",
      "source": [
        "def career_begin(doc):\n",
        "  career_result = list()\n",
        "  \n",
        "  #Regex will match the pattern (checking the keywords like age in, debut in etc) and fecth teh age and year of the player. \n",
        "  #For e.g. In case of Cristiano Ronaldo it will give \"at age 18 in 2003\" as a result.\n",
        "  CAREER = re.compile(r'(\\bat age\\s\\b|\\b(debut|\\d+)* aged\\s\\b|\\bdebut in\\s\\b)(.\\d+)(.in.\\w+.\\d+)*')  \n",
        "  career = CAREER.search(doc)\n",
        "  \n",
        "  #Checking if the values (age and year) are present or not. If not, adding the NOt Available as a default value.\n",
        "  if(career == None):\n",
        "    age = debut_year = \"Not Available\"\n",
        "  else:\n",
        "    age = re.search(r'\\d{2}', career.group())\n",
        "    age = age.group() if age != None else \"Not Available\"\n",
        "    debut_year = re.search(r'\\d{4}', career.group())\n",
        "    debut_year = debut_year.group() if debut_year != None else \"Not Available\"\n",
        "  \n",
        "  career_result.extend((age, debut_year))\n",
        "  return career_result"
      ],
      "execution_count": 0,
      "outputs": []
    },
    {
      "metadata": {
        "id": "XDkUf75JLfHl",
        "colab_type": "code",
        "outputId": "51443579-5aab-4ceb-fed3-27952532ef3b",
        "colab": {
          "base_uri": "https://localhost:8080/",
          "height": 34
        }
      },
      "cell_type": "code",
      "source": [
        "career_begin(list_of_doc[0])"
      ],
      "execution_count": 0,
      "outputs": [
        {
          "output_type": "execute_result",
          "data": {
            "text/plain": [
              "['18', '2003']"
            ]
          },
          "metadata": {
            "tags": []
          },
          "execution_count": 189
        }
      ]
    },
    {
      "metadata": {
        "id": "KuaRZx1KB7gO",
        "colab_type": "code",
        "colab": {}
      },
      "cell_type": "code",
      "source": [
        "#This is the updated function containing the Debut age and year details.\n",
        "#It will take a document as an argument. Passing only one argument so that user don't have to pass details manually (for user simplicity).\n",
        "def new_generate_jsonld(doc):\n",
        "    #Code goes here\n",
        "    #Hint: arg1,arg2,..... are the arguments you will be passing to the function\n",
        "    player_name = name_of_the_player(doc)\n",
        "    player_dob = date_of_birth(doc)\n",
        "    player_country = country_of_origin(doc)\n",
        "    player_position = []\n",
        "    player_teams = []\n",
        "    player_debut_age = career_begin(doc)[0]\n",
        "    player_debut_year = career_begin(doc)[1]\n",
        "\n",
        "    #Converting the player all position into JSON-LD format\n",
        "    player_all_position = position_of_the_player(doc)\n",
        "    for pos in range(len(player_all_position)):\n",
        "      individual_pos = {\n",
        "             \"@id\": \"http://my-soccer-ontology.com/\"+ player_all_position[pos],\n",
        "             \"type\": player_all_position[pos]\n",
        "            }\n",
        "      player_position.append(individual_pos)\n",
        "\n",
        "    #Converting the player all teams into JSON-LD format\n",
        "    player_all_team = team_of_the_player(doc)\n",
        "    for team in range(len(player_all_team)):\n",
        "      individual_team = {\n",
        "             \"@id\": \"http://my-soccer-ontology.com/\"+ player_all_team[team],\n",
        "             \"type\": player_all_team[team]\n",
        "            }\n",
        "      player_teams.append(individual_team)\n",
        "\n",
        "    json_data = { \"@id\": \"http://my-soccer-ontology.com/footballer/\"+ player_name,\n",
        "\n",
        "                  \"name\": player_name,\n",
        "                  \"born\": player_dob,\n",
        "                  \"country\": player_country,\n",
        "                  \"position\": player_position, \n",
        "                  \"team\": player_teams,\n",
        "                  \"debut year\": player_debut_year,\n",
        "                  \"debut age\": player_debut_age,\n",
        "                  }\n",
        "    return json.dumps(json_data)\n"
      ],
      "execution_count": 0,
      "outputs": []
    },
    {
      "metadata": {
        "id": "X5SkdhaoDGki",
        "colab_type": "code",
        "outputId": "2d179707-7045-4676-954c-3ca5bd3265b4",
        "colab": {
          "base_uri": "https://localhost:8080/",
          "height": 54
        }
      },
      "cell_type": "code",
      "source": [
        "new_generate_jsonld(list_of_doc[0])"
      ],
      "execution_count": 0,
      "outputs": [
        {
          "output_type": "execute_result",
          "data": {
            "text/plain": [
              "'{\"@id\": \"http://my-soccer-ontology.com/footballer/Cristiano Ronaldo dos Santos Aveiro\", \"name\": \"Cristiano Ronaldo dos Santos Aveiro\", \"born\": \"5 February 1985\", \"country\": \"Portugal\", \"position\": [{\"@id\": \"http://my-soccer-ontology.com/forward\", \"type\": \"forward\"}], \"team\": [{\"@id\": \"http://my-soccer-ontology.com/Real Madrid\", \"type\": \"Real Madrid\"}, {\"@id\": \"http://my-soccer-ontology.com/Manchester United\", \"type\": \"Manchester United\"}, {\"@id\": \"http://my-soccer-ontology.com/Sporting CP\", \"type\": \"Sporting CP\"}], \"debut year\": \"2003\", \"debut age\": \"18\"}'"
            ]
          },
          "metadata": {
            "tags": []
          },
          "execution_count": 192
        }
      ]
    }
  ]
}