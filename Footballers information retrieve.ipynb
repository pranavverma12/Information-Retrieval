{
  "nbformat": 4,
  "nbformat_minor": 0,
  "metadata": {
    "colab": {
      "name": "18230141_NLP_Assignment_2.ipynb",
      "version": "0.3.2",
      "provenance": [],
      "collapsed_sections": []
    },
    "kernelspec": {
      "display_name": "Python 3",
      "language": "python",
      "name": "python3"
    }
  },
  "cells": [
    {
      "metadata": {
        "id": "sC-LZ20S_WUr",
        "colab_type": "text"
      },
      "cell_type": "markdown",
      "source": [
        "# Information Extraction - Assignment\n",
        "This assignment is based on the Information Extraction lecture and the lab.\n"
      ]
    },
    {
      "metadata": {
        "id": "9xqCFJBv_WUt",
        "colab_type": "code",
        "colab": {}
      },
      "cell_type": "code",
      "source": [
        "import nltk  as nk\n",
        "nk.download(\"all\")\n",
        "import re\n",
        "from statistics import mode"
      ],
      "execution_count": 0,
      "outputs": []
    },
    {
      "metadata": {
        "id": "m0mo13vi_WUx",
        "colab_type": "code",
        "colab": {}
      },
      "cell_type": "code",
      "source": [
        "#inputfile=\"football_players.txt\" #Location of the file\n",
        "\n",
        "from google.colab import files\n",
        "import io\n",
        "uploaded = files.upload()\n",
        "\n",
        "#To solve the error \"initial_value must be unicode or None, not str\" decode is used\n",
        "inputfile = io.StringIO(uploaded['football_players.txt'].decode('utf-8')).readlines()\n"
      ],
      "execution_count": 0,
      "outputs": []
    },
    {
      "metadata": {
        "id": "o9JfZbc4F0fG",
        "colab_type": "code",
        "colab": {}
      },
      "cell_type": "code",
      "source": [
        "list_of_doc = [para.split(\"\\n\")[0] for para in inputfile]\n",
        "\n",
        "list_of_doc = list(filter(None, list_of_doc)) #removing empty string\n",
        "list_of_doc"
      ],
      "execution_count": 0,
      "outputs": []
    },
    {
      "metadata": {
        "id": "kvjo3y3xKEU4",
        "colab_type": "code",
        "colab": {}
      },
      "cell_type": "code",
      "source": [
        "list_of_doc[2]"
      ],
      "execution_count": 0,
      "outputs": []
    },
    {
      "metadata": {
        "id": "DCEJrJ-p_WU1",
        "colab_type": "text"
      },
      "cell_type": "markdown",
      "source": [
        "# Task 1 (10 Marks)\n",
        "Write a function that takes each document and performs:\n",
        "1) sentence segmentation 2) tokenization 3) part-of-speech tagging\n",
        "\n",
        "Please keep in mind that the expected output is a list within a list as shown below.\n"
      ]
    },
    {
      "metadata": {
        "id": "U3MCJIcR_WU2",
        "colab_type": "code",
        "colab": {}
      },
      "cell_type": "code",
      "source": [
        "def ie_preprocess(document):\n",
        "  sent_segment = nk.sent_tokenize(document)\n",
        "  word_token = [nk.word_tokenize(sent) for sent in sent_segment]\n",
        "  pos_sentences = [nk.pos_tag(sent) for sent in word_token]\n",
        "  return pos_sentences"
      ],
      "execution_count": 0,
      "outputs": []
    },
    {
      "metadata": {
        "id": "-E04CUNb_WU6",
        "colab_type": "text"
      },
      "cell_type": "markdown",
      "source": [
        "Run the following code to check your result for the first document (Ronaldo)."
      ]
    },
    {
      "metadata": {
        "id": "R30taRgf_WU6",
        "colab_type": "code",
        "colab": {}
      },
      "cell_type": "code",
      "source": [
        "first_doc=list_of_doc[0]\n",
        "pos_sent=ie_preprocess(first_doc)\n",
        "pos_sent"
      ],
      "execution_count": 0,
      "outputs": []
    },
    {
      "metadata": {
        "id": "OMw70Wm8_WU-",
        "colab_type": "text"
      },
      "cell_type": "markdown",
      "source": [
        "Expected output\n",
        " [...[('He', 'PRP'),\n",
        "  ('is', 'VBZ'),\n",
        "  ('a', 'DT'),\n",
        "  ('forward', 'NN'),\n",
        "  ('and', 'CC'),\n",
        "  ('serves', 'NNS'),\n",
        "  ('as', 'IN'),\n",
        "  ('captain', 'NN'),\n",
        "  ('for', 'IN'),\n",
        "  ('Portugal', 'NNP'),\n",
        "  ('.', '.')], ...]"
      ]
    },
    {
      "metadata": {
        "id": "tYTwrZId_WU_",
        "colab_type": "text"
      },
      "cell_type": "markdown",
      "source": [
        "# Task 2 (20 Marks)\n",
        "Write a function that will take the list of tokens with POS tags for each sentence and returns the named entities (NE). \n",
        "\n",
        "Hint: Use binary=True while calling NE chunk function"
      ]
    },
    {
      "metadata": {
        "id": "5fC0iqJJ_WU_",
        "colab_type": "code",
        "colab": {}
      },
      "cell_type": "code",
      "source": [
        "def named_entity_finding(pos_sent):\n",
        "  tree = nk.ne_chunk(pos_sent, binary=True)\n",
        "  named_entities = []\n",
        "  for subtree in tree.subtrees():    \n",
        "    if subtree.label() == 'NE':\n",
        "        entity = \"\"\n",
        "        for leaf in subtree.leaves():\n",
        "            entity = entity + leaf[0] + \" \"\n",
        "        named_entities.append(entity.strip())\n",
        "  return named_entities\n",
        "\n",
        "pos_sents = ie_preprocess(list_of_doc[0])\n",
        "named_entity_finding(pos_sents[0])\n",
        "#There is typing error in the provided out Portuguese will come only once."
      ],
      "execution_count": 0,
      "outputs": []
    },
    {
      "metadata": {
        "id": "fDolbFKE_WVD",
        "colab_type": "text"
      },
      "cell_type": "markdown",
      "source": [
        "Expected output ['Cristiano Ronaldo',\n",
        " 'Santos Aveiro',\n",
        " 'ComM',\n",
        " 'GOIH',\n",
        " 'Portuguese',\n",
        " 'Portuguese',\n",
        " 'Spanish',\n",
        " 'Real Madrid',\n",
        " 'Portugal']"
      ]
    },
    {
      "metadata": {
        "id": "XHMp7xtK_WVE",
        "colab_type": "text"
      },
      "cell_type": "markdown",
      "source": [
        "# Task 3 (10 Marks)\n",
        "\n",
        "Now use the named_entity_finding() function to extract all NEs for each document.\n",
        "\n",
        "Hint: pos_sents holds the list of lists of tokens with POS tags"
      ]
    },
    {
      "metadata": {
        "id": "TwFlzQx4_WVF",
        "colab_type": "code",
        "colab": {}
      },
      "cell_type": "code",
      "source": [
        "def NE_flat_list_fn(pos_sents): \n",
        "    NE=[]\n",
        "    for pos_sent in pos_sents:\n",
        "        #Single line code here. Call the funtion named_entity_finding(pos_sent) and \n",
        "                #append the result to the NE list    \n",
        "      NE.append(named_entity_finding(pos_sent))\n",
        "    #Single line code here. Flatten the list of lists to the single list NE_flat_list\n",
        "    NE_flat_list = [item for sublist in NE for item in sublist]\n",
        "    return NE_flat_list"
      ],
      "execution_count": 0,
      "outputs": []
    },
    {
      "metadata": {
        "id": "qN76ZeiDYzx5",
        "colab_type": "code",
        "colab": {}
      },
      "cell_type": "code",
      "source": [
        "NE_flat_list_fn(pos_sents)"
      ],
      "execution_count": 0,
      "outputs": []
    },
    {
      "metadata": {
        "id": "l7-ma9lJ_WVJ",
        "colab_type": "text"
      },
      "cell_type": "markdown",
      "source": [
        "\n",
        "# Task 4 (40 Marks)\n",
        "\n",
        "Write functions to extract the name of the player, country of origin and date of birth as well as the following relations: team(s) of the player and position(s) of the player.\n",
        "\n",
        "Hint: Use the re.compile() function to create the extraction patterns\n",
        "\n",
        "Reference: https://docs.python.org/3/howto/regex.html"
      ]
    },
    {
      "metadata": {
        "id": "ZRDsjBWsX70H",
        "colab_type": "code",
        "colab": {}
      },
      "cell_type": "code",
      "source": [
        "#Function to remove the partial matches.\n",
        "#For e.g. ['Barcelona', 'Paris Saint-Germain', 'Juventus', 'FC Barcelona', 'Ajax', 'Inter Milan', 'A.C. Milan']\n",
        "#This function will remove the \"Barcelona\" as Barcelona and FC Barcelona is same. Moreover, Barcelona word is coming inside the FC Barcelona.\n",
        "\n",
        "def filtering_partial_regex(teams_ans):\n",
        "  single_words = []\n",
        "  not_single = []\n",
        "  for xx in teams_ans:\n",
        "    if(len(xx.split(\" \")) == 1):\n",
        "      single_words.append(xx)\n",
        "    else:\n",
        "      not_single.append(xx)\n",
        "\n",
        "  for y in not_single:\n",
        "    for r in y.split(\" \"):\n",
        "      if(\"-\" in r):\n",
        "        [teams_ans.remove(t) for t in teams_ans if t==r.split(\"-\")[1]]\n",
        "        [teams_ans.remove(t) for t in teams_ans if t==r.split(\"-\")[0]]\n",
        "      else:\n",
        "        if(r in single_words):\n",
        "          [teams_ans.remove(t) for t in teams_ans if t==r]\n",
        "  \n",
        "  return(teams_ans)"
      ],
      "execution_count": 0,
      "outputs": []
    },
    {
      "metadata": {
        "id": "tbaFyiah_WVK",
        "colab_type": "code",
        "colab": {}
      },
      "cell_type": "code",
      "source": [
        "def name_of_the_player(doc):\n",
        "    name =[]\n",
        "    preprocessed_words = ie_preprocess(doc)\n",
        "    list_to_pass = named_entity_finding(preprocessed_words[0])\n",
        "    \n",
        "    #The pattern of palyer name is at the starting of the paragraph till the born word. Making the generalised regex which is given below. \n",
        "    NAME = re.compile(r'(?=^)(\\w.+)(?=\\,\\s(C|O))|(?=^)(\\w.+)(?=\\s\\(\\bborn\\b)')\n",
        "    name = NAME.search(doc).group()\n",
        "    return name\n",
        "\n",
        "def country_of_origin(doc):\n",
        "    #For the country the pattern is a word preceding to the national team. The generalised regex is working in a same way. Other possible regex is also given below (commented) which will also work similarly.\n",
        "    #COUNTRY = re.compile(r'(?<=\\b(?<=\\band\\b|\\bfor\\b) the\\s\\b).[\\w]+(?=\\b national team\\b)')\n",
        "    COUNTRY = re.compile(r'(\\w+)(?=\\s\\bnational team\\b)', re.IGNORECASE)\n",
        "    \n",
        "    country = COUNTRY.search(doc).group()    \n",
        "    return country\n",
        "\n",
        "def date_of_birth(doc):\n",
        "    #For the born the pattern is born and details in the brackets. The generalised regex is finding the born and its details enclosed in brackets and displaying the result.\n",
        "    #Another alternative regex is also mentioned just below (commented) which also gives the correct result.\n",
        "    #\\bborn*[a-z|A-Z|\\d|\\s]+\\b\n",
        "    BORN = re.compile(r'(?<=\\bborn\\s\\b).[a-z|A-Z|\\d|\\s]+', re.IGNORECASE)\n",
        "    \n",
        "    date = BORN.search(doc).group()    \n",
        "    return date\n",
        "\n",
        "def team_of_the_player(doc):\n",
        "    #NOTE: Considering players team as a club only not the national teams as we have already taken out the national teams in the country_of_origin method.\n",
        "    #If national team is also part of the team than we can combine the result of this method with country_of_origin. eg. final_result_team + country_of_origin(doc).\n",
        "    result_team = list()\n",
        "    teams = list()\n",
        "    \n",
        "    #For finding the team of the players making almost generalised regex which is given below.\n",
        "    #The main idea is using the keywords like \"plays for\", \"siging with\", \"moved to\", \"transferred to\", \"clubs\" etc. These are some of the normal and generalised words which will be present in\n",
        "    #any of the document. Here, modify them with the help of grammer. We can also use POS tagging and grammer for parsing, but since question asked for the regex so building the regex.\n",
        "    TEAM = re.compile(r'(?<=\\bclub\\s\\b)((\\s*[A-Z]\\w+){0,2})|(?:\\bsigning with\\s\\b|\\bplaying for\\s\\b|(?<=\\b\\,\\sbefore moving to\\s\\b)|\\bseasons at the\\s\\b|\\btransferred to\\s\\b|\\bsigned (?:\\bby\\s\\b)\\b)((\\s*\\w+){0,2})|(?<=\\bclubs\\s\\b)(\\s*\\w.+)(?=\\.\\s\\bHe\\b)|(?<=\\byouth team of\\s\\b)((\\s*[A-Z]\\w+))|(?<=\\bplayed for\\s\\b)(\\s*\\w.+)(?=\\,\\s\\band the(?:\\s\\w+)\\snational team\\b)|(?<=\\bprofessional career at\\s\\b)(\\s*\\w+)|(?<=\\bas the captain for\\s\\b)(\\w+)|(?<=\\bsigned for rival side\\s\\b)((\\s*\\w+){0,2})|(?:\\bHe joined\\s\\b|\\bjoining\\s\\b)(\\w.+)(?=\\s\\bin a\\b)|(?<=\\bHe joined\\s\\b)((\\s*\\w+|\\-){0,4})|(?<=\\bsigned for\\s\\b)(\\w.+)(?=\\s\\band excelled\\b)|(?<=\\bhe moved to\\s\\b)(\\s*\\w+)|(?<=\\bmoved to\\s\\b)((\\s*\\w+){0,2})|(?<=\\bto play for\\s\\b)(\\s*\\w.+)(?=\\s\\bbefore\\b)|(?<=\\bto play for\\s\\b)(\\w+)')\n",
        "    \n",
        "    team = TEAM.findall(doc)    \n",
        "    for i in range(len(team)):\n",
        "      teams = teams + list(filter(None, team[i]))\n",
        "    \n",
        "    #Creating the regex for removing extra space from the words\n",
        "    partial_match_words = re.compile(r'^\\s\\b')   \n",
        "    \n",
        "    #Loop which remove the \"commans\" and \"and\" in the result so that we will get list of all the teams.\n",
        "    #For e.g. from \"Manchester United, Preston North End, Real Madrid, Milan, LA Galaxy, Paris Saint-Germain\" all the \",\" and \"and\" will be removed.\n",
        "    for p in range(len(teams)):\n",
        "      if(',' in teams[p]):\n",
        "        removing_commas = teams[p].split(\", \")\n",
        "        for rc in range(len(removing_commas)):\n",
        "          if(\" and \" in removing_commas[rc]):\n",
        "            result_team = result_team + removing_commas[rc].split(\" and \")\n",
        "          else:\n",
        "            result_team.append(removing_commas[rc])\n",
        "      elif('and' in teams[p]):\n",
        "          result_team = result_team + teams[p].split(\" and \")\n",
        "      elif(partial_match_words.match(teams[p]) == None):\n",
        "        result_team.append(teams[p])\n",
        "    \n",
        "    final_result_team = filtering_partial_regex(list(set(result_team)))\n",
        "    \n",
        "    return list(set(final_result_team))\n",
        "\n",
        "def position_of_the_player(doc):\n",
        "    result_pos = list()\n",
        "    \n",
        "    #Since in soccer we have limited positions, so creating the list of all the positions and finding it in the given document. The generalised regex is given below.\n",
        "    POSITION = re.compile(r'(\\bstriker\\b)|(\\bforward\\b)|(\\bleft winger\\b|\\bright winger\\b|winger)|(\\bcentral midfielder\\b|\\battacking midfielder\\b)|((\\b(central\\s)*(left-back|right-back)\\b)+)|(\\b(full|central) back\\b)|(\\bgoalkeeper\\b)', re.IGNORECASE)\n",
        "    position = POSITION.findall(doc)\n",
        "    \n",
        "    #Removing the empty tupples from the above output.\n",
        "    for i in range(len(position)):\n",
        "      result_pos = result_pos + list(filter(None, position[i]))\n",
        "      \n",
        "    return list(set(result_pos))"
      ],
      "execution_count": 0,
      "outputs": []
    },
    {
      "metadata": {
        "id": "SgcP7A-f_YwG",
        "colab_type": "code",
        "colab": {}
      },
      "cell_type": "code",
      "source": [
        "name_of_the_player(list_of_doc[9])"
      ],
      "execution_count": 0,
      "outputs": []
    },
    {
      "metadata": {
        "id": "HTPTm97IadQh",
        "colab_type": "code",
        "colab": {}
      },
      "cell_type": "code",
      "source": [
        "country_of_origin(list_of_doc[9])"
      ],
      "execution_count": 0,
      "outputs": []
    },
    {
      "metadata": {
        "id": "5V4lijdASRFi",
        "colab_type": "code",
        "colab": {}
      },
      "cell_type": "code",
      "source": [
        "position_of_the_player(list_of_doc[8])"
      ],
      "execution_count": 0,
      "outputs": []
    },
    {
      "metadata": {
        "id": "QTduoDQsfJiJ",
        "colab_type": "code",
        "colab": {}
      },
      "cell_type": "code",
      "source": [
        "team_of_the_player(list_of_doc[5])"
      ],
      "execution_count": 0,
      "outputs": []
    },
    {
      "metadata": {
        "id": "K-CNrMM5_WVO",
        "colab_type": "text"
      },
      "cell_type": "markdown",
      "source": [
        "Execute the below command to check your fuction\n"
      ]
    },
    {
      "metadata": {
        "id": "DOYgu6O7HmKg",
        "colab_type": "code",
        "colab": {}
      },
      "cell_type": "code",
      "source": [
        "date_of_birth(list_of_doc[2])"
      ],
      "execution_count": 0,
      "outputs": []
    },
    {
      "metadata": {
        "id": "7g3p6CcQ_WVS",
        "colab_type": "text"
      },
      "cell_type": "markdown",
      "source": [
        "Expected output '5 February 1992'"
      ]
    },
    {
      "metadata": {
        "id": "sCYflDpp_WVU",
        "colab_type": "text"
      },
      "cell_type": "markdown",
      "source": [
        "# Task 5 (10 Marks)\n",
        "\n",
        "Write a function using the outputs from the previous functions to generate JSON-LD output as follows.\n",
        "\n",
        "Reference: https://json-ld.org/primer/latest/\n",
        "\n",
        "{ \"@id\": \"http://my-soccer-ontology.com/footballer/name_of_the_player\",\n",
        "\n",
        "    \"name\": \"\",\n",
        "    \"born\": \"\",\n",
        "    \"country\": \"\",\n",
        "    \"position\": [\n",
        "        { \"@id\": \"http://my-soccer-ontology.com/position\",\n",
        "            \"type\": \"\"\n",
        "        }\n",
        "     ]   \n",
        "     \"team\": [\n",
        "        { \"@id\": \"http://my-soccer-ontology.com/team\",\n",
        "            \"name\": \"\"\n",
        "        }   \n",
        "     ]\n",
        "}\n"
      ]
    },
    {
      "metadata": {
        "id": "AOyj8r1u4uFR",
        "colab_type": "code",
        "colab": {}
      },
      "cell_type": "code",
      "source": [
        "import json"
      ],
      "execution_count": 0,
      "outputs": []
    },
    {
      "metadata": {
        "id": "z8HStdlu_WVU",
        "colab_type": "code",
        "colab": {}
      },
      "cell_type": "code",
      "source": [
        "#It will take a document as an argument. Passing only one argument so that user don't have to pass details manually (for user simplicity).\n",
        "def generate_jsonld(doc):\n",
        "    #Hint: arg1,arg2,..... are the arguments you will be passing to the function\n",
        "    \n",
        "    #Taking out the required document.\n",
        "    player_name = name_of_the_player(doc)\n",
        "    player_dob = date_of_birth(doc)\n",
        "    player_country = country_of_origin(doc)\n",
        "    player_position = []\n",
        "    player_teams = []\n",
        "    \n",
        "    #Converting the player all position into JSON-LD format\n",
        "    player_all_position = position_of_the_player(doc)\n",
        "    for pos in range(len(player_all_position)):\n",
        "      individual_pos = {\n",
        "             \"@id\": \"http://my-soccer-ontology.com/\"+ player_all_position[pos],\n",
        "             \"type\": player_all_position[pos]\n",
        "            }\n",
        "      player_position.append(individual_pos)\n",
        "\n",
        "    #Converting the player all teams into JSON-LD format\n",
        "    player_all_team = team_of_the_player(doc)\n",
        "    for team in range(len(player_all_team)):\n",
        "      individual_team = {\n",
        "             \"@id\": \"http://my-soccer-ontology.com/\"+ player_all_team[team],\n",
        "             \"type\": player_all_team[team]\n",
        "            }\n",
        "      player_teams.append(individual_team)\n",
        "\n",
        "    json_data = { \"@id\": \"http://my-soccer-ontology.com/footballer/\"+ player_name,\n",
        "\n",
        "                  \"name\": player_name,\n",
        "                  \"born\": player_dob,\n",
        "                  \"country\": player_country,\n",
        "                  \"position\": player_position, \n",
        "                   \"team\": player_teams\n",
        "                  }\n",
        "    return json.dumps(json_data)\n"
      ],
      "execution_count": 0,
      "outputs": []
    },
    {
      "metadata": {
        "id": "GqeTCw4B0SaT",
        "colab_type": "code",
        "colab": {}
      },
      "cell_type": "code",
      "source": [
        "generate_jsonld(list_of_doc[3])"
      ],
      "execution_count": 0,
      "outputs": []
    },
    {
      "metadata": {
        "id": "i3VtWxBr_WVZ",
        "colab_type": "text"
      },
      "cell_type": "markdown",
      "source": [
        "# Task 6 (10 Marks)\n",
        "Identify one other relation (besides team and player) and write a function to extract this. Also extend the JSON-LD output accordingly."
      ]
    },
    {
      "metadata": {
        "id": "VdXSBf_JHFPQ",
        "colab_type": "code",
        "colab": {}
      },
      "cell_type": "code",
      "source": [
        "#========================================================== Solution ============================================================================"
      ],
      "execution_count": 0,
      "outputs": []
    },
    {
      "metadata": {
        "id": "pYsjtiMxEGxH",
        "colab_type": "text"
      },
      "cell_type": "markdown",
      "source": [
        "\n",
        "\n",
        "---\n",
        "\n",
        "\n",
        "I am taking debut year and the age of the player from which he enters into professional football career. However, it is important to note that, these two values are not available for all the players. Hence, if debut year or debut age is not present I have added as \"Not Available\" as a default value.\n",
        "\n",
        "---\n",
        "\n",
        "\n",
        "\n"
      ]
    },
    {
      "metadata": {
        "id": "8vdjyjMXLByS",
        "colab_type": "code",
        "colab": {}
      },
      "cell_type": "code",
      "source": [
        "def career_begin(doc):\n",
        "  career_result = list()\n",
        "  \n",
        "  #Regex will match the pattern (checking the keywords like age in, debut in etc) and fecth teh age and year of the player. \n",
        "  #For e.g. In case of Cristiano Ronaldo it will give \"at age 18 in 2003\" as a result.\n",
        "  CAREER = re.compile(r'(\\bat age\\s\\b|\\b(debut|\\d+)* aged\\s\\b|\\bdebut in\\s\\b)(.\\d+)(.in.\\w+.\\d+)*')  \n",
        "  career = CAREER.search(doc)\n",
        "  \n",
        "  #Checking if the values (age and year) are present or not. If not, adding the NOt Available as a default value.\n",
        "  if(career == None):\n",
        "    age = debut_year = \"Not Available\"\n",
        "  else:\n",
        "    age = re.search(r'\\d{2}', career.group())\n",
        "    age = age.group() if age != None else \"Not Available\"\n",
        "    debut_year = re.search(r'\\d{4}', career.group())\n",
        "    debut_year = debut_year.group() if debut_year != None else \"Not Available\"\n",
        "  \n",
        "  career_result.extend((age, debut_year))\n",
        "  return career_result"
      ],
      "execution_count": 0,
      "outputs": []
    },
    {
      "metadata": {
        "id": "XDkUf75JLfHl",
        "colab_type": "code",
        "colab": {}
      },
      "cell_type": "code",
      "source": [
        "career_begin(list_of_doc[0])"
      ],
      "execution_count": 0,
      "outputs": []
    },
    {
      "metadata": {
        "id": "KuaRZx1KB7gO",
        "colab_type": "code",
        "colab": {}
      },
      "cell_type": "code",
      "source": [
        "#This is the updated function containing the Debut age and year details.\n",
        "#It will take a document as an argument. Passing only one argument so that user don't have to pass details manually (for user simplicity).\n",
        "def new_generate_jsonld(doc):\n",
        "    #Code goes here\n",
        "    #Hint: arg1,arg2,..... are the arguments you will be passing to the function\n",
        "    player_name = name_of_the_player(doc)\n",
        "    player_dob = date_of_birth(doc)\n",
        "    player_country = country_of_origin(doc)\n",
        "    player_position = []\n",
        "    player_teams = []\n",
        "    player_debut_age = career_begin(doc)[0]\n",
        "    player_debut_year = career_begin(doc)[1]\n",
        "\n",
        "    #Converting the player all position into JSON-LD format\n",
        "    player_all_position = position_of_the_player(doc)\n",
        "    for pos in range(len(player_all_position)):\n",
        "      individual_pos = {\n",
        "             \"@id\": \"http://my-soccer-ontology.com/\"+ player_all_position[pos],\n",
        "             \"type\": player_all_position[pos]\n",
        "            }\n",
        "      player_position.append(individual_pos)\n",
        "\n",
        "    #Converting the player all teams into JSON-LD format\n",
        "    player_all_team = team_of_the_player(doc)\n",
        "    for team in range(len(player_all_team)):\n",
        "      individual_team = {\n",
        "             \"@id\": \"http://my-soccer-ontology.com/\"+ player_all_team[team],\n",
        "             \"type\": player_all_team[team]\n",
        "            }\n",
        "      player_teams.append(individual_team)\n",
        "\n",
        "    json_data = { \"@id\": \"http://my-soccer-ontology.com/footballer/\"+ player_name,\n",
        "\n",
        "                  \"name\": player_name,\n",
        "                  \"born\": player_dob,\n",
        "                  \"country\": player_country,\n",
        "                  \"position\": player_position, \n",
        "                  \"team\": player_teams,\n",
        "                  \"debut year\": player_debut_year,\n",
        "                  \"debut age\": player_debut_age,\n",
        "                  }\n",
        "    return json.dumps(json_data)\n"
      ],
      "execution_count": 0,
      "outputs": []
    },
    {
      "metadata": {
        "id": "X5SkdhaoDGki",
        "colab_type": "code",
        "colab": {}
      },
      "cell_type": "code",
      "source": [
        "new_generate_jsonld(list_of_doc[0])"
      ],
      "execution_count": 0,
      "outputs": []
    }
  ]
}